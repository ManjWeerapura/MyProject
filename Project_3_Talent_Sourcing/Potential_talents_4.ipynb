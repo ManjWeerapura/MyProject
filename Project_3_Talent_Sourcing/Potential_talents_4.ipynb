{
 "cells": [
  {
   "cell_type": "markdown",
   "metadata": {},
   "source": [
    "# TALENT SOURCING\n",
    "   \n",
    "In this notebook, a talent sourcing company first screens the available candidates on a set of specific job title key words to identify and rank the candidates based on their job titles. By looking at the resulting list of ranked candidates, a preferred candidate is selected and the list is ranked again based on the job title as well as the location of the preferred candidate."
   ]
  },
  {
   "cell_type": "markdown",
   "metadata": {},
   "source": [
    "Data Attributes:   \n",
    "id : unique identifier for candidate (numeric)   \n",
    "job_title : job title for candidate (text)   \n",
    "location : geographical location for candidate (text)   \n",
    "connections: number of connections candidate has, 500+ means over 500 (text)   \n",
    "Output (desired target):   \n",
    "fit - how fit the candidate is for the role? (numeric, probability between 0-1)   \n",
    "Keywords: “Aspiring human resources” or “seeking human resources”   \n"
   ]
  },
  {
   "cell_type": "code",
   "execution_count": 42,
   "metadata": {},
   "outputs": [],
   "source": [
    "import nltk\n",
    "import gensim\n",
    "import numpy as np\n",
    "import pandas as pd\n",
    "from multiprocessing import cpu_count\n",
    "from sentence_transformers import SentenceTransformer\n",
    "from sklearn.metrics.pairwise import cosine_similarity"
   ]
  },
  {
   "cell_type": "code",
   "execution_count": 163,
   "metadata": {
    "scrolled": true
   },
   "outputs": [
    {
     "data": {
      "text/html": [
       "<div>\n",
       "<style scoped>\n",
       "    .dataframe tbody tr th:only-of-type {\n",
       "        vertical-align: middle;\n",
       "    }\n",
       "\n",
       "    .dataframe tbody tr th {\n",
       "        vertical-align: top;\n",
       "    }\n",
       "\n",
       "    .dataframe thead th {\n",
       "        text-align: right;\n",
       "    }\n",
       "</style>\n",
       "<table border=\"1\" class=\"dataframe\">\n",
       "  <thead>\n",
       "    <tr style=\"text-align: right;\">\n",
       "      <th></th>\n",
       "      <th>id</th>\n",
       "      <th>job_title</th>\n",
       "      <th>location</th>\n",
       "      <th>connection</th>\n",
       "      <th>fit</th>\n",
       "    </tr>\n",
       "  </thead>\n",
       "  <tbody>\n",
       "    <tr>\n",
       "      <th>0</th>\n",
       "      <td>1</td>\n",
       "      <td>2019 C.T. Bauer College of Business Graduate (...</td>\n",
       "      <td>Houston, Texas</td>\n",
       "      <td>85</td>\n",
       "      <td>NaN</td>\n",
       "    </tr>\n",
       "    <tr>\n",
       "      <th>1</th>\n",
       "      <td>2</td>\n",
       "      <td>Native English Teacher at EPIK (English Progra...</td>\n",
       "      <td>Kanada</td>\n",
       "      <td>500+</td>\n",
       "      <td>NaN</td>\n",
       "    </tr>\n",
       "    <tr>\n",
       "      <th>2</th>\n",
       "      <td>3</td>\n",
       "      <td>Aspiring Human Resources Professional</td>\n",
       "      <td>Raleigh-Durham, North Carolina Area</td>\n",
       "      <td>44</td>\n",
       "      <td>NaN</td>\n",
       "    </tr>\n",
       "    <tr>\n",
       "      <th>3</th>\n",
       "      <td>4</td>\n",
       "      <td>People Development Coordinator at Ryan</td>\n",
       "      <td>Denton, Texas</td>\n",
       "      <td>500+</td>\n",
       "      <td>NaN</td>\n",
       "    </tr>\n",
       "    <tr>\n",
       "      <th>4</th>\n",
       "      <td>5</td>\n",
       "      <td>Advisory Board Member at Celal Bayar University</td>\n",
       "      <td>Ä°zmir, TÃ¼rkiye</td>\n",
       "      <td>500+</td>\n",
       "      <td>NaN</td>\n",
       "    </tr>\n",
       "  </tbody>\n",
       "</table>\n",
       "</div>"
      ],
      "text/plain": [
       "   id                                          job_title  \\\n",
       "0   1  2019 C.T. Bauer College of Business Graduate (...   \n",
       "1   2  Native English Teacher at EPIK (English Progra...   \n",
       "2   3              Aspiring Human Resources Professional   \n",
       "3   4             People Development Coordinator at Ryan   \n",
       "4   5    Advisory Board Member at Celal Bayar University   \n",
       "\n",
       "                              location connection  fit  \n",
       "0                       Houston, Texas         85  NaN  \n",
       "1                               Kanada      500+   NaN  \n",
       "2  Raleigh-Durham, North Carolina Area         44  NaN  \n",
       "3                        Denton, Texas      500+   NaN  \n",
       "4                     Ä°zmir, TÃ¼rkiye      500+   NaN  "
      ]
     },
     "execution_count": 163,
     "metadata": {},
     "output_type": "execute_result"
    }
   ],
   "source": [
    "df = pd.read_csv('potential-talents - Aspiring human resources - seeking human resources.csv')\n",
    "df.head()"
   ]
  },
  {
   "cell_type": "code",
   "execution_count": 157,
   "metadata": {
    "scrolled": true
   },
   "outputs": [
    {
     "name": "stdout",
     "output_type": "stream",
     "text": [
      "<class 'pandas.core.frame.DataFrame'>\n",
      "RangeIndex: 104 entries, 0 to 103\n",
      "Data columns (total 5 columns):\n",
      " #   Column      Non-Null Count  Dtype  \n",
      "---  ------      --------------  -----  \n",
      " 0   id          104 non-null    int64  \n",
      " 1   job_title   104 non-null    object \n",
      " 2   location    104 non-null    object \n",
      " 3   connection  104 non-null    object \n",
      " 4   fit         104 non-null    float64\n",
      "dtypes: float64(1), int64(1), object(3)\n",
      "memory usage: 4.2+ KB\n"
     ]
    }
   ],
   "source": [
    "df.info()"
   ]
  },
  {
   "cell_type": "markdown",
   "metadata": {},
   "source": [
    "## Data cleaning"
   ]
  },
  {
   "cell_type": "code",
   "execution_count": 167,
   "metadata": {},
   "outputs": [],
   "source": [
    "#replace the misspelt location entries\n",
    "# also replace '500+' in the 'connection' column to 500 so that data can be converted to integer values below\n",
    "df.replace({'Ä°zmir, TÃ¼rkiye': 'İzmir, Türkiye', 'Kanada' : 'Canada', '500+ ':'500'}, inplace=True) #replace the spelling with incorrect characters"
   ]
  },
  {
   "cell_type": "code",
   "execution_count": 175,
   "metadata": {},
   "outputs": [],
   "source": [
    "#change the data type of 'connection' column to 'int64'\n",
    "df['connection'] = df['connection'].astype('int64')"
   ]
  },
  {
   "cell_type": "code",
   "execution_count": 176,
   "metadata": {
    "scrolled": false
   },
   "outputs": [
    {
     "data": {
      "text/html": [
       "<div>\n",
       "<style scoped>\n",
       "    .dataframe tbody tr th:only-of-type {\n",
       "        vertical-align: middle;\n",
       "    }\n",
       "\n",
       "    .dataframe tbody tr th {\n",
       "        vertical-align: top;\n",
       "    }\n",
       "\n",
       "    .dataframe thead th {\n",
       "        text-align: right;\n",
       "    }\n",
       "</style>\n",
       "<table border=\"1\" class=\"dataframe\">\n",
       "  <thead>\n",
       "    <tr style=\"text-align: right;\">\n",
       "      <th></th>\n",
       "      <th>id</th>\n",
       "      <th>job_title</th>\n",
       "      <th>location</th>\n",
       "      <th>connection</th>\n",
       "      <th>fit</th>\n",
       "    </tr>\n",
       "  </thead>\n",
       "  <tbody>\n",
       "    <tr>\n",
       "      <th>0</th>\n",
       "      <td>1</td>\n",
       "      <td>2019 C.T. Bauer College of Business Graduate (...</td>\n",
       "      <td>Houston, Texas</td>\n",
       "      <td>85</td>\n",
       "      <td>NaN</td>\n",
       "    </tr>\n",
       "    <tr>\n",
       "      <th>1</th>\n",
       "      <td>2</td>\n",
       "      <td>Native English Teacher at EPIK (English Progra...</td>\n",
       "      <td>Canada</td>\n",
       "      <td>500</td>\n",
       "      <td>NaN</td>\n",
       "    </tr>\n",
       "    <tr>\n",
       "      <th>2</th>\n",
       "      <td>3</td>\n",
       "      <td>Aspiring Human Resources Professional</td>\n",
       "      <td>Raleigh-Durham, North Carolina Area</td>\n",
       "      <td>44</td>\n",
       "      <td>NaN</td>\n",
       "    </tr>\n",
       "    <tr>\n",
       "      <th>3</th>\n",
       "      <td>4</td>\n",
       "      <td>People Development Coordinator at Ryan</td>\n",
       "      <td>Denton, Texas</td>\n",
       "      <td>500</td>\n",
       "      <td>NaN</td>\n",
       "    </tr>\n",
       "    <tr>\n",
       "      <th>4</th>\n",
       "      <td>5</td>\n",
       "      <td>Advisory Board Member at Celal Bayar University</td>\n",
       "      <td>İzmir, Türkiye</td>\n",
       "      <td>500</td>\n",
       "      <td>NaN</td>\n",
       "    </tr>\n",
       "  </tbody>\n",
       "</table>\n",
       "</div>"
      ],
      "text/plain": [
       "   id                                          job_title  \\\n",
       "0   1  2019 C.T. Bauer College of Business Graduate (...   \n",
       "1   2  Native English Teacher at EPIK (English Progra...   \n",
       "2   3              Aspiring Human Resources Professional   \n",
       "3   4             People Development Coordinator at Ryan   \n",
       "4   5    Advisory Board Member at Celal Bayar University   \n",
       "\n",
       "                              location  connection  fit  \n",
       "0                       Houston, Texas          85  NaN  \n",
       "1                               Canada         500  NaN  \n",
       "2  Raleigh-Durham, North Carolina Area          44  NaN  \n",
       "3                        Denton, Texas         500  NaN  \n",
       "4                       İzmir, Türkiye         500  NaN  "
      ]
     },
     "execution_count": 176,
     "metadata": {},
     "output_type": "execute_result"
    }
   ],
   "source": [
    "df.head()"
   ]
  },
  {
   "cell_type": "code",
   "execution_count": 177,
   "metadata": {},
   "outputs": [
    {
     "name": "stdout",
     "output_type": "stream",
     "text": [
      "<class 'pandas.core.frame.DataFrame'>\n",
      "RangeIndex: 104 entries, 0 to 103\n",
      "Data columns (total 5 columns):\n",
      " #   Column      Non-Null Count  Dtype  \n",
      "---  ------      --------------  -----  \n",
      " 0   id          104 non-null    int64  \n",
      " 1   job_title   104 non-null    object \n",
      " 2   location    104 non-null    object \n",
      " 3   connection  104 non-null    int64  \n",
      " 4   fit         0 non-null      float64\n",
      "dtypes: float64(1), int64(2), object(2)\n",
      "memory usage: 4.2+ KB\n"
     ]
    }
   ],
   "source": [
    "df.info()"
   ]
  },
  {
   "cell_type": "code",
   "execution_count": 178,
   "metadata": {
    "scrolled": true
   },
   "outputs": [
    {
     "data": {
      "text/plain": [
       "(104, 5)"
      ]
     },
     "execution_count": 178,
     "metadata": {},
     "output_type": "execute_result"
    }
   ],
   "source": [
    "df.shape"
   ]
  },
  {
   "cell_type": "markdown",
   "metadata": {},
   "source": [
    "## Pre-process job_title column"
   ]
  },
  {
   "cell_type": "code",
   "execution_count": 97,
   "metadata": {},
   "outputs": [
    {
     "data": {
      "text/plain": [
       "'People Development Coordinator at Ryan'"
      ]
     },
     "execution_count": 97,
     "metadata": {},
     "output_type": "execute_result"
    }
   ],
   "source": [
    "df.job_title[3]"
   ]
  },
  {
   "cell_type": "code",
   "execution_count": 41,
   "metadata": {},
   "outputs": [
    {
     "data": {
      "text/plain": [
       "0      [bauer, college, of, business, graduate, magna...\n",
       "1      [native, english, teacher, at, epik, english, ...\n",
       "2             [aspiring, human, resources, professional]\n",
       "3           [people, development, coordinator, at, ryan]\n",
       "4      [advisory, board, member, at, celal, bayar, un...\n",
       "                             ...                        \n",
       "99     [aspiring, human, resources, manager, graduati...\n",
       "100          [human, resources, generalist, at, loparex]\n",
       "101    [business, intelligence, and, analytics, at, t...\n",
       "102                [always, set, them, up, for, success]\n",
       "103    [director, of, administration, at, excellence,...\n",
       "Name: job_title, Length: 104, dtype: object"
      ]
     },
     "execution_count": 41,
     "metadata": {},
     "output_type": "execute_result"
    }
   ],
   "source": [
    "#preprocess job_title column only\n",
    "job_titl = df.job_title.apply(gensim.utils.simple_preprocess)\n",
    "job_titl"
   ]
  },
  {
   "cell_type": "code",
   "execution_count": 46,
   "metadata": {},
   "outputs": [
    {
     "data": {
      "text/plain": [
       "['i', 'me', 'my', 'myself', 'we', 'our', 'ours', 'ourselves', 'you', \"you're\"]"
      ]
     },
     "execution_count": 46,
     "metadata": {},
     "output_type": "execute_result"
    }
   ],
   "source": [
    "stopwords = nltk.corpus.stopwords.words('english')\n",
    "stopwords[:10]  #check the first 10 stop words"
   ]
  },
  {
   "cell_type": "markdown",
   "metadata": {},
   "source": [
    "## Define function to remove stop words from input phrases"
   ]
  },
  {
   "cell_type": "code",
   "execution_count": 56,
   "metadata": {},
   "outputs": [],
   "source": [
    "#define function to remove stop words from each of the job descriptions\n",
    "def remove_stopwords (tokenized_text):\n",
    "    cleaned_text = [word for word in tokenized_text if word not in stopwords]\n",
    "    return cleaned_text"
   ]
  },
  {
   "cell_type": "markdown",
   "metadata": {},
   "source": [
    "### Remove stop words from the job_title column"
   ]
  },
  {
   "cell_type": "code",
   "execution_count": 192,
   "metadata": {},
   "outputs": [
    {
     "data": {
      "text/plain": [
       "0      [bauer, college, business, graduate, magna, cu...\n",
       "1      [native, english, teacher, epik, english, prog...\n",
       "2             [aspiring, human, resources, professional]\n",
       "3               [people, development, coordinator, ryan]\n",
       "4      [advisory, board, member, celal, bayar, univer...\n",
       "                             ...                        \n",
       "99     [aspiring, human, resources, manager, graduati...\n",
       "100              [human, resources, generalist, loparex]\n",
       "101       [business, intelligence, analytics, travelers]\n",
       "102                               [always, set, success]\n",
       "103      [director, administration, excellence, logging]\n",
       "Name: job_title, Length: 104, dtype: object"
      ]
     },
     "execution_count": 192,
     "metadata": {},
     "output_type": "execute_result"
    }
   ],
   "source": [
    "# remove stopwords from each job description\n",
    "for ind, job in enumerate(job_titl):\n",
    "    job_titl[ind] = remove_stopwords(job_titl[ind])  \n",
    "\n",
    "job_titl"
   ]
  },
  {
   "cell_type": "markdown",
   "metadata": {},
   "source": [
    "### Remove stop words from the location column"
   ]
  },
  {
   "cell_type": "code",
   "execution_count": 285,
   "metadata": {
    "scrolled": true
   },
   "outputs": [
    {
     "data": {
      "text/plain": [
       "0                              [houston, texas]\n",
       "1                                      [canada]\n",
       "2      [raleigh, durham, north, carolina, area]\n",
       "3                               [denton, texas]\n",
       "4                               [zmir, türkiye]\n",
       "                         ...                   \n",
       "99                  [cape, girardeau, missouri]\n",
       "100    [raleigh, durham, north, carolina, area]\n",
       "101            [greater, new, york, city, area]\n",
       "102               [greater, los, angeles, area]\n",
       "103                               [katy, texas]\n",
       "Name: location, Length: 104, dtype: object"
      ]
     },
     "execution_count": 285,
     "metadata": {},
     "output_type": "execute_result"
    }
   ],
   "source": [
    "#preprocess and remove stopwords for location column\n",
    "location_name = df.location.apply(gensim.utils.simple_preprocess)\n",
    "\n",
    "for ind, location in enumerate(location_name):\n",
    "    location_name[ind] = remove_stopwords(location_name[ind])  \n",
    "location_name"
   ]
  },
  {
   "cell_type": "markdown",
   "metadata": {},
   "source": [
    "### Combine cleaned job titles and locations into a single series"
   ]
  },
  {
   "cell_type": "code",
   "execution_count": 203,
   "metadata": {},
   "outputs": [
    {
     "data": {
      "text/plain": [
       "0      [bauer, college, business, graduate, magna, cu...\n",
       "1      [native, english, teacher, epik, english, prog...\n",
       "2             [aspiring, human, resources, professional]\n",
       "3               [people, development, coordinator, ryan]\n",
       "4      [advisory, board, member, celal, bayar, univer...\n",
       "                             ...                        \n",
       "99                           [cape, girardeau, missouri]\n",
       "100             [raleigh, durham, north, carolina, area]\n",
       "101                     [greater, new, york, city, area]\n",
       "102                        [greater, los, angeles, area]\n",
       "103                                        [katy, texas]\n",
       "Length: 208, dtype: object"
      ]
     },
     "execution_count": 203,
     "metadata": {},
     "output_type": "execute_result"
    }
   ],
   "source": [
    "job_location_combined = job_titl.append(location_name)\n",
    "job_location_combined"
   ]
  },
  {
   "cell_type": "markdown",
   "metadata": {},
   "source": [
    "## Initialize gensim model"
   ]
  },
  {
   "cell_type": "code",
   "execution_count": 79,
   "metadata": {
    "scrolled": true
   },
   "outputs": [
    {
     "data": {
      "text/plain": [
       "4"
      ]
     },
     "execution_count": 79,
     "metadata": {},
     "output_type": "execute_result"
    }
   ],
   "source": [
    "cpu_count()"
   ]
  },
  {
   "cell_type": "code",
   "execution_count": 208,
   "metadata": {},
   "outputs": [],
   "source": [
    "# now we initialize a gensim model\n",
    "# window is how many words before and after the target word. Can be anything 5, 7 etc\n",
    "# min_count is the min length of a sentense. So don't use sentences with only 1 word\n",
    "# workers how many CPU threads to be used?? (so CPUs with 4 cores, use 4, my Lenovo laptop has 2 cores but supposedly\n",
    "# can handle upto 4 threads in parallel.. whatever that means) \n",
    "\n",
    "model = gensim.models.Word2Vec(\n",
    "         window = 5,\n",
    "         min_count = 2,\n",
    "         workers = 4)  # cpu_count for this laptop is 4"
   ]
  },
  {
   "cell_type": "markdown",
   "metadata": {},
   "source": [
    "## Build model vocabulary with BOTH cleaned job titles and locations"
   ]
  },
  {
   "cell_type": "code",
   "execution_count": 209,
   "metadata": {},
   "outputs": [],
   "source": [
    "#build the vocabulary\n",
    "model.build_vocab(job_location_combined)"
   ]
  },
  {
   "cell_type": "code",
   "execution_count": 210,
   "metadata": {
    "scrolled": true
   },
   "outputs": [
    {
     "data": {
      "text/plain": [
       "(208, 5)"
      ]
     },
     "execution_count": 210,
     "metadata": {},
     "output_type": "execute_result"
    }
   ],
   "source": [
    "model.corpus_count, model.epochs"
   ]
  },
  {
   "cell_type": "markdown",
   "metadata": {},
   "source": [
    "## Train the model"
   ]
  },
  {
   "cell_type": "code",
   "execution_count": 211,
   "metadata": {},
   "outputs": [
    {
     "data": {
      "text/plain": [
       "(1523, 4695)"
      ]
     },
     "execution_count": 211,
     "metadata": {},
     "output_type": "execute_result"
    }
   ],
   "source": [
    "model.train(job_location_combined, total_examples = model.corpus_count, epochs = model.epochs)"
   ]
  },
  {
   "cell_type": "code",
   "execution_count": 90,
   "metadata": {
    "scrolled": true
   },
   "outputs": [
    {
     "data": {
      "text/plain": [
       "['aspiring', 'human', 'resources']"
      ]
     },
     "execution_count": 90,
     "metadata": {},
     "output_type": "execute_result"
    }
   ],
   "source": [
    "#following line of code preprocesses, tokenizes and removes stopwords (using remove_stopword function) from any phrase\n",
    "key_words = remove_stopwords(gensim.utils.simple_preprocess('Aspiring human resources'))\n",
    "key_words"
   ]
  },
  {
   "cell_type": "markdown",
   "metadata": {},
   "source": [
    "## Define function to compute the cosine similarity between two lists of words derived from two phrases"
   ]
  },
  {
   "cell_type": "code",
   "execution_count": 212,
   "metadata": {},
   "outputs": [],
   "source": [
    "#define function to compute cosine similarity between two lists of words (not individual words)\n",
    "def word_set_similarity (test_set, reference):\n",
    "    return model.wv.n_similarity (test_set, reference)"
   ]
  },
  {
   "cell_type": "code",
   "execution_count": 213,
   "metadata": {},
   "outputs": [
    {
     "data": {
      "text/plain": [
       "0.8704935"
      ]
     },
     "execution_count": 213,
     "metadata": {},
     "output_type": "execute_result"
    }
   ],
   "source": [
    "score = word_set_similarity(job_titl[5], key_words)\n",
    "score"
   ]
  },
  {
   "cell_type": "markdown",
   "metadata": {},
   "source": [
    "## Define function to pre-process and remove stop words from an input phrase"
   ]
  },
  {
   "cell_type": "code",
   "execution_count": 214,
   "metadata": {},
   "outputs": [],
   "source": [
    "#define function to remove stopwords and preprocess a sentence\n",
    "def rem_stopwrds_preprocess(sentence):\n",
    "    return remove_stopwords(gensim.utils.simple_preprocess(sentence))"
   ]
  },
  {
   "cell_type": "markdown",
   "metadata": {},
   "source": [
    "## Calculate the cosine similarity between specific key words and each job title of potential candidates in the list. Create a new dataframe and append the similarity value to the job_fit column and sort in a descending manner"
   ]
  },
  {
   "cell_type": "code",
   "execution_count": 215,
   "metadata": {
    "scrolled": false
   },
   "outputs": [
    {
     "data": {
      "text/html": [
       "<div>\n",
       "<style scoped>\n",
       "    .dataframe tbody tr th:only-of-type {\n",
       "        vertical-align: middle;\n",
       "    }\n",
       "\n",
       "    .dataframe tbody tr th {\n",
       "        vertical-align: top;\n",
       "    }\n",
       "\n",
       "    .dataframe thead th {\n",
       "        text-align: right;\n",
       "    }\n",
       "</style>\n",
       "<table border=\"1\" class=\"dataframe\">\n",
       "  <thead>\n",
       "    <tr style=\"text-align: right;\">\n",
       "      <th></th>\n",
       "      <th>id</th>\n",
       "      <th>job_title</th>\n",
       "      <th>location</th>\n",
       "      <th>connection</th>\n",
       "      <th>job_fit</th>\n",
       "    </tr>\n",
       "  </thead>\n",
       "  <tbody>\n",
       "    <tr>\n",
       "      <th>0</th>\n",
       "      <td>79</td>\n",
       "      <td>Liberal Arts Major. Aspiring Human Resources A...</td>\n",
       "      <td>Baton Rouge, Louisiana Area</td>\n",
       "      <td>7</td>\n",
       "      <td>0.887459</td>\n",
       "    </tr>\n",
       "    <tr>\n",
       "      <th>1</th>\n",
       "      <td>36</td>\n",
       "      <td>Aspiring Human Resources Specialist</td>\n",
       "      <td>Greater New York City Area</td>\n",
       "      <td>1</td>\n",
       "      <td>0.870493</td>\n",
       "    </tr>\n",
       "    <tr>\n",
       "      <th>2</th>\n",
       "      <td>49</td>\n",
       "      <td>Aspiring Human Resources Specialist</td>\n",
       "      <td>Greater New York City Area</td>\n",
       "      <td>1</td>\n",
       "      <td>0.870493</td>\n",
       "    </tr>\n",
       "    <tr>\n",
       "      <th>3</th>\n",
       "      <td>24</td>\n",
       "      <td>Aspiring Human Resources Specialist</td>\n",
       "      <td>Greater New York City Area</td>\n",
       "      <td>1</td>\n",
       "      <td>0.870493</td>\n",
       "    </tr>\n",
       "    <tr>\n",
       "      <th>4</th>\n",
       "      <td>6</td>\n",
       "      <td>Aspiring Human Resources Specialist</td>\n",
       "      <td>Greater New York City Area</td>\n",
       "      <td>1</td>\n",
       "      <td>0.870493</td>\n",
       "    </tr>\n",
       "    <tr>\n",
       "      <th>...</th>\n",
       "      <td>...</td>\n",
       "      <td>...</td>\n",
       "      <td>...</td>\n",
       "      <td>...</td>\n",
       "      <td>...</td>\n",
       "    </tr>\n",
       "    <tr>\n",
       "      <th>99</th>\n",
       "      <td>32</td>\n",
       "      <td>Native English Teacher at EPIK (English Progra...</td>\n",
       "      <td>Canada</td>\n",
       "      <td>500</td>\n",
       "      <td>-0.032830</td>\n",
       "    </tr>\n",
       "    <tr>\n",
       "      <th>100</th>\n",
       "      <td>45</td>\n",
       "      <td>Native English Teacher at EPIK (English Progra...</td>\n",
       "      <td>Canada</td>\n",
       "      <td>500</td>\n",
       "      <td>-0.032830</td>\n",
       "    </tr>\n",
       "    <tr>\n",
       "      <th>101</th>\n",
       "      <td>2</td>\n",
       "      <td>Native English Teacher at EPIK (English Progra...</td>\n",
       "      <td>Canada</td>\n",
       "      <td>500</td>\n",
       "      <td>-0.032830</td>\n",
       "    </tr>\n",
       "    <tr>\n",
       "      <th>102</th>\n",
       "      <td>80</td>\n",
       "      <td>Junior MES Engineer| Information Systems</td>\n",
       "      <td>Myrtle Beach, South Carolina Area</td>\n",
       "      <td>52</td>\n",
       "      <td>-0.046584</td>\n",
       "    </tr>\n",
       "    <tr>\n",
       "      <th>103</th>\n",
       "      <td>104</td>\n",
       "      <td>Director Of Administration at Excellence Logging</td>\n",
       "      <td>Katy, Texas</td>\n",
       "      <td>500</td>\n",
       "      <td>-0.181832</td>\n",
       "    </tr>\n",
       "  </tbody>\n",
       "</table>\n",
       "<p>104 rows × 5 columns</p>\n",
       "</div>"
      ],
      "text/plain": [
       "      id                                          job_title  \\\n",
       "0     79  Liberal Arts Major. Aspiring Human Resources A...   \n",
       "1     36                Aspiring Human Resources Specialist   \n",
       "2     49                Aspiring Human Resources Specialist   \n",
       "3     24                Aspiring Human Resources Specialist   \n",
       "4      6                Aspiring Human Resources Specialist   \n",
       "..   ...                                                ...   \n",
       "99    32  Native English Teacher at EPIK (English Progra...   \n",
       "100   45  Native English Teacher at EPIK (English Progra...   \n",
       "101    2  Native English Teacher at EPIK (English Progra...   \n",
       "102   80           Junior MES Engineer| Information Systems   \n",
       "103  104   Director Of Administration at Excellence Logging   \n",
       "\n",
       "                              location  connection   job_fit  \n",
       "0          Baton Rouge, Louisiana Area           7  0.887459  \n",
       "1           Greater New York City Area           1  0.870493  \n",
       "2           Greater New York City Area           1  0.870493  \n",
       "3           Greater New York City Area           1  0.870493  \n",
       "4           Greater New York City Area           1  0.870493  \n",
       "..                                 ...         ...       ...  \n",
       "99                              Canada         500 -0.032830  \n",
       "100                             Canada         500 -0.032830  \n",
       "101                             Canada         500 -0.032830  \n",
       "102  Myrtle Beach, South Carolina Area          52 -0.046584  \n",
       "103                        Katy, Texas         500 -0.181832  \n",
       "\n",
       "[104 rows x 5 columns]"
      ]
     },
     "execution_count": 215,
     "metadata": {},
     "output_type": "execute_result"
    }
   ],
   "source": [
    "#preprocess, tokenize and preprocess the keyword phrase that will be used to filter the candidate job descriptions\n",
    "key_words = rem_stopwrds_preprocess('Aspiring human resources') # enter 'seeking human resources' or  'Aspiring human resources'\n",
    "\n",
    "# each candidate job description is compared with key words using the function to calculate cosine similarity\n",
    "df['fit'] = df['job_title'].apply(lambda x: word_set_similarity(rem_stopwrds_preprocess(x), key_words))\n",
    "\n",
    "candidates_1 = df.sort_values('fit', ignore_index=True, ascending=False)\n",
    "candidates_1.rename(columns={'fit':'job_fit'}, inplace=True)\n",
    "\n",
    "candidates_1"
   ]
  },
  {
   "cell_type": "code",
   "execution_count": 216,
   "metadata": {},
   "outputs": [
    {
     "data": {
      "text/plain": [
       "['greater', 'new', 'york', 'city', 'area']"
      ]
     },
     "execution_count": 216,
     "metadata": {},
     "output_type": "execute_result"
    }
   ],
   "source": [
    "rem_stopwrds_preprocess(df[df.id==102].iloc[0]['location'])"
   ]
  },
  {
   "cell_type": "markdown",
   "metadata": {},
   "source": [
    "## Define function to re-rank the list of candidates based on the job title AND location of a preferred (starred) candidate. Re-ranking involves differentially weighting the job title, location and the number of connections."
   ]
  },
  {
   "cell_type": "code",
   "execution_count": 277,
   "metadata": {},
   "outputs": [],
   "source": [
    "# the following function takes the id number of the preferred candidate from the first round and uses that candidate's\n",
    "# location to rerank the candidates based on the job_title AND location. For the ranking, job title is given a highest weight,\n",
    "# followed by candidate location followed by the candidate's number of LinkedIn connections\n",
    "\n",
    "def rerank (id_num, input_df):\n",
    "    '''\n",
    "    input: id_num - id number of the preferred candidate from the first round of screening\n",
    "    input: input_df - this is the df where the data from the first sceening round is stored\n",
    "    \n",
    "    output: df containing the new columns where job and location similarity values, a score for the number of\n",
    "            connections as well as a column for the average of the weighted scores.\n",
    "    '''\n",
    "    # remove the previously created columns in the input df since they will be calculated again in this function\n",
    "    df = input_df.iloc[:, :4]\n",
    "    \n",
    "    #preferred candidate job_title embedding\n",
    "    cand_job_preprocess = rem_stopwrds_preprocess (df[df.id==id_num].iloc[0]['job_title'])\n",
    "    #preferred candidate location embedding\n",
    "    cand_loc_preprocess = rem_stopwrds_preprocess (df[df.id==id_num].iloc[0]['location'])\n",
    "    \n",
    "    # calculate cosine similarities of the job fit for each candidate based on the job description of the preferred candidate\n",
    "    df['job_fit'] = df['job_title'].apply(lambda x: word_set_similarity(rem_stopwrds_preprocess(x), cand_job_preprocess))\n",
    "    # calculate cosine similarities of the location fit for each candidate based on the job description of the preferred candidate\n",
    "    df['location_fit'] = df['location'].apply(lambda x: word_set_similarity(rem_stopwrds_preprocess(x), cand_loc_preprocess))\n",
    "    \n",
    "    # create a column for connection count and then normalize to the maximum value in the column\n",
    "    df['connection_score'] = df['connection'].apply(lambda x: x/df['connection'].max()) \n",
    "\n",
    "    #calculate the mean for the job_fit and location_fit and conection_score values\n",
    "    # BUT give the job_fit more weigt (*3) followed by the location_fit (*2) and then connection_score(*0.5)\n",
    "    df['job_loc_connection_fit'] = (df['job_fit']*3+df['location_fit']*2+df['connection_score']*0.5)/3\n",
    "    \n",
    "    #sort the df based on the mean of weighted scores \n",
    "    df = df.sort_values('job_loc_connection_fit', ignore_index = True, ascending=False)\n",
    "    \n",
    "    return df"
   ]
  },
  {
   "cell_type": "markdown",
   "metadata": {},
   "source": [
    "## An example run of the rerank function using a starred candidate (id = 53)"
   ]
  },
  {
   "cell_type": "code",
   "execution_count": 278,
   "metadata": {
    "scrolled": true
   },
   "outputs": [
    {
     "data": {
      "text/html": [
       "<div>\n",
       "<style scoped>\n",
       "    .dataframe tbody tr th:only-of-type {\n",
       "        vertical-align: middle;\n",
       "    }\n",
       "\n",
       "    .dataframe tbody tr th {\n",
       "        vertical-align: top;\n",
       "    }\n",
       "\n",
       "    .dataframe thead th {\n",
       "        text-align: right;\n",
       "    }\n",
       "</style>\n",
       "<table border=\"1\" class=\"dataframe\">\n",
       "  <thead>\n",
       "    <tr style=\"text-align: right;\">\n",
       "      <th></th>\n",
       "      <th>id</th>\n",
       "      <th>job_title</th>\n",
       "      <th>location</th>\n",
       "      <th>connection</th>\n",
       "      <th>job_fit</th>\n",
       "      <th>location_fit</th>\n",
       "      <th>connection_score</th>\n",
       "      <th>job_loc_connection_fit</th>\n",
       "    </tr>\n",
       "  </thead>\n",
       "  <tbody>\n",
       "    <tr>\n",
       "      <th>0</th>\n",
       "      <td>62</td>\n",
       "      <td>Seeking Human Resources HRIS and Generalist Po...</td>\n",
       "      <td>Greater Philadelphia Area</td>\n",
       "      <td>500</td>\n",
       "      <td>1.000000</td>\n",
       "      <td>1.000000</td>\n",
       "      <td>1.000</td>\n",
       "      <td>1.833333</td>\n",
       "    </tr>\n",
       "    <tr>\n",
       "      <th>1</th>\n",
       "      <td>40</td>\n",
       "      <td>Seeking Human Resources HRIS and Generalist Po...</td>\n",
       "      <td>Greater Philadelphia Area</td>\n",
       "      <td>500</td>\n",
       "      <td>1.000000</td>\n",
       "      <td>1.000000</td>\n",
       "      <td>1.000</td>\n",
       "      <td>1.833333</td>\n",
       "    </tr>\n",
       "    <tr>\n",
       "      <th>2</th>\n",
       "      <td>53</td>\n",
       "      <td>Seeking Human Resources HRIS and Generalist Po...</td>\n",
       "      <td>Greater Philadelphia Area</td>\n",
       "      <td>500</td>\n",
       "      <td>1.000000</td>\n",
       "      <td>1.000000</td>\n",
       "      <td>1.000</td>\n",
       "      <td>1.833333</td>\n",
       "    </tr>\n",
       "    <tr>\n",
       "      <th>3</th>\n",
       "      <td>10</td>\n",
       "      <td>Seeking Human Resources HRIS and Generalist Po...</td>\n",
       "      <td>Greater Philadelphia Area</td>\n",
       "      <td>500</td>\n",
       "      <td>1.000000</td>\n",
       "      <td>1.000000</td>\n",
       "      <td>1.000</td>\n",
       "      <td>1.833333</td>\n",
       "    </tr>\n",
       "    <tr>\n",
       "      <th>4</th>\n",
       "      <td>69</td>\n",
       "      <td>Director of Human Resources North America, Gro...</td>\n",
       "      <td>Greater Grand Rapids, Michigan Area</td>\n",
       "      <td>500</td>\n",
       "      <td>0.391234</td>\n",
       "      <td>0.817515</td>\n",
       "      <td>1.000</td>\n",
       "      <td>1.102910</td>\n",
       "    </tr>\n",
       "    <tr>\n",
       "      <th>5</th>\n",
       "      <td>74</td>\n",
       "      <td>Human Resources Professional</td>\n",
       "      <td>Greater Boston Area</td>\n",
       "      <td>16</td>\n",
       "      <td>0.516438</td>\n",
       "      <td>0.817515</td>\n",
       "      <td>0.032</td>\n",
       "      <td>1.066781</td>\n",
       "    </tr>\n",
       "    <tr>\n",
       "      <th>6</th>\n",
       "      <td>89</td>\n",
       "      <td>Director Human Resources  at EY</td>\n",
       "      <td>Greater Atlanta Area</td>\n",
       "      <td>349</td>\n",
       "      <td>0.434369</td>\n",
       "      <td>0.718418</td>\n",
       "      <td>0.698</td>\n",
       "      <td>1.029648</td>\n",
       "    </tr>\n",
       "    <tr>\n",
       "      <th>7</th>\n",
       "      <td>99</td>\n",
       "      <td>Seeking Human Resources Position</td>\n",
       "      <td>Las Vegas, Nevada Area</td>\n",
       "      <td>48</td>\n",
       "      <td>0.603871</td>\n",
       "      <td>0.583191</td>\n",
       "      <td>0.096</td>\n",
       "      <td>1.008665</td>\n",
       "    </tr>\n",
       "    <tr>\n",
       "      <th>8</th>\n",
       "      <td>68</td>\n",
       "      <td>Human Resources Specialist at Luxottica</td>\n",
       "      <td>Greater New York City Area</td>\n",
       "      <td>500</td>\n",
       "      <td>0.511840</td>\n",
       "      <td>0.482865</td>\n",
       "      <td>1.000</td>\n",
       "      <td>1.000417</td>\n",
       "    </tr>\n",
       "    <tr>\n",
       "      <th>9</th>\n",
       "      <td>29</td>\n",
       "      <td>Aspiring Human Resources Management student se...</td>\n",
       "      <td>Houston, Texas Area</td>\n",
       "      <td>500</td>\n",
       "      <td>0.552762</td>\n",
       "      <td>0.411324</td>\n",
       "      <td>1.000</td>\n",
       "      <td>0.993644</td>\n",
       "    </tr>\n",
       "  </tbody>\n",
       "</table>\n",
       "</div>"
      ],
      "text/plain": [
       "   id                                          job_title  \\\n",
       "0  62  Seeking Human Resources HRIS and Generalist Po...   \n",
       "1  40  Seeking Human Resources HRIS and Generalist Po...   \n",
       "2  53  Seeking Human Resources HRIS and Generalist Po...   \n",
       "3  10  Seeking Human Resources HRIS and Generalist Po...   \n",
       "4  69  Director of Human Resources North America, Gro...   \n",
       "5  74                       Human Resources Professional   \n",
       "6  89                    Director Human Resources  at EY   \n",
       "7  99                   Seeking Human Resources Position   \n",
       "8  68            Human Resources Specialist at Luxottica   \n",
       "9  29  Aspiring Human Resources Management student se...   \n",
       "\n",
       "                              location  connection   job_fit  location_fit  \\\n",
       "0            Greater Philadelphia Area         500  1.000000      1.000000   \n",
       "1            Greater Philadelphia Area         500  1.000000      1.000000   \n",
       "2            Greater Philadelphia Area         500  1.000000      1.000000   \n",
       "3            Greater Philadelphia Area         500  1.000000      1.000000   \n",
       "4  Greater Grand Rapids, Michigan Area         500  0.391234      0.817515   \n",
       "5                  Greater Boston Area          16  0.516438      0.817515   \n",
       "6                 Greater Atlanta Area         349  0.434369      0.718418   \n",
       "7               Las Vegas, Nevada Area          48  0.603871      0.583191   \n",
       "8           Greater New York City Area         500  0.511840      0.482865   \n",
       "9                  Houston, Texas Area         500  0.552762      0.411324   \n",
       "\n",
       "   connection_score  job_loc_connection_fit  \n",
       "0             1.000                1.833333  \n",
       "1             1.000                1.833333  \n",
       "2             1.000                1.833333  \n",
       "3             1.000                1.833333  \n",
       "4             1.000                1.102910  \n",
       "5             0.032                1.066781  \n",
       "6             0.698                1.029648  \n",
       "7             0.096                1.008665  \n",
       "8             1.000                1.000417  \n",
       "9             1.000                0.993644  "
      ]
     },
     "execution_count": 278,
     "metadata": {},
     "output_type": "execute_result"
    }
   ],
   "source": [
    "# rerank the list based on candidate id 53\n",
    "output_df = rerank(53, candidates_1)\n",
    "output_df.head(10)"
   ]
  },
  {
   "cell_type": "markdown",
   "metadata": {},
   "source": []
  }
 ],
 "metadata": {
  "kernelspec": {
   "display_name": "Python 3",
   "language": "python",
   "name": "python3"
  },
  "language_info": {
   "codemirror_mode": {
    "name": "ipython",
    "version": 3
   },
   "file_extension": ".py",
   "mimetype": "text/x-python",
   "name": "python",
   "nbconvert_exporter": "python",
   "pygments_lexer": "ipython3",
   "version": "3.8.5"
  }
 },
 "nbformat": 4,
 "nbformat_minor": 4
}
