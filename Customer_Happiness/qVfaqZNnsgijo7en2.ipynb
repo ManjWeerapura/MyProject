{
 "cells": [
  {
   "cell_type": "markdown",
   "metadata": {},
   "source": [
    "## CUSTOMER HAPPINESS\n",
    "\n",
    "In this notebook, feedback from customers who have received a delivery is utilized to predict which of the questions posed are important in determining what makes a customer happy or unhappy. We will be especially interested in determining what makes a customer unhappy so that corrective action can be made to reduce the proportion of unhappy customer."
   ]
  },
  {
   "cell_type": "code",
   "execution_count": 1,
   "metadata": {},
   "outputs": [],
   "source": [
    "import numpy as np\n",
    "import pandas as pd\n",
    "import matplotlib.pyplot as plt\n",
    "import seaborn as sns"
   ]
  },
  {
   "cell_type": "code",
   "execution_count": 2,
   "metadata": {},
   "outputs": [],
   "source": [
    "df = pd.read_csv('ACME-HappinessSurvey2020.csv')"
   ]
  },
  {
   "cell_type": "code",
   "execution_count": 3,
   "metadata": {
    "scrolled": true
   },
   "outputs": [
    {
     "data": {
      "text/html": [
       "<div>\n",
       "<style scoped>\n",
       "    .dataframe tbody tr th:only-of-type {\n",
       "        vertical-align: middle;\n",
       "    }\n",
       "\n",
       "    .dataframe tbody tr th {\n",
       "        vertical-align: top;\n",
       "    }\n",
       "\n",
       "    .dataframe thead th {\n",
       "        text-align: right;\n",
       "    }\n",
       "</style>\n",
       "<table border=\"1\" class=\"dataframe\">\n",
       "  <thead>\n",
       "    <tr style=\"text-align: right;\">\n",
       "      <th></th>\n",
       "      <th>Y</th>\n",
       "      <th>X1</th>\n",
       "      <th>X2</th>\n",
       "      <th>X3</th>\n",
       "      <th>X4</th>\n",
       "      <th>X5</th>\n",
       "      <th>X6</th>\n",
       "    </tr>\n",
       "  </thead>\n",
       "  <tbody>\n",
       "    <tr>\n",
       "      <th>0</th>\n",
       "      <td>0</td>\n",
       "      <td>3</td>\n",
       "      <td>3</td>\n",
       "      <td>3</td>\n",
       "      <td>4</td>\n",
       "      <td>2</td>\n",
       "      <td>4</td>\n",
       "    </tr>\n",
       "    <tr>\n",
       "      <th>1</th>\n",
       "      <td>0</td>\n",
       "      <td>3</td>\n",
       "      <td>2</td>\n",
       "      <td>3</td>\n",
       "      <td>5</td>\n",
       "      <td>4</td>\n",
       "      <td>3</td>\n",
       "    </tr>\n",
       "    <tr>\n",
       "      <th>2</th>\n",
       "      <td>1</td>\n",
       "      <td>5</td>\n",
       "      <td>3</td>\n",
       "      <td>3</td>\n",
       "      <td>3</td>\n",
       "      <td>3</td>\n",
       "      <td>5</td>\n",
       "    </tr>\n",
       "    <tr>\n",
       "      <th>3</th>\n",
       "      <td>0</td>\n",
       "      <td>5</td>\n",
       "      <td>4</td>\n",
       "      <td>3</td>\n",
       "      <td>3</td>\n",
       "      <td>3</td>\n",
       "      <td>5</td>\n",
       "    </tr>\n",
       "    <tr>\n",
       "      <th>4</th>\n",
       "      <td>0</td>\n",
       "      <td>5</td>\n",
       "      <td>4</td>\n",
       "      <td>3</td>\n",
       "      <td>3</td>\n",
       "      <td>3</td>\n",
       "      <td>5</td>\n",
       "    </tr>\n",
       "  </tbody>\n",
       "</table>\n",
       "</div>"
      ],
      "text/plain": [
       "   Y  X1  X2  X3  X4  X5  X6\n",
       "0  0   3   3   3   4   2   4\n",
       "1  0   3   2   3   5   4   3\n",
       "2  1   5   3   3   3   3   5\n",
       "3  0   5   4   3   3   3   5\n",
       "4  0   5   4   3   3   3   5"
      ]
     },
     "execution_count": 3,
     "metadata": {},
     "output_type": "execute_result"
    }
   ],
   "source": [
    "df.head()"
   ]
  },
  {
   "cell_type": "code",
   "execution_count": 4,
   "metadata": {},
   "outputs": [
    {
     "name": "stdout",
     "output_type": "stream",
     "text": [
      "<class 'pandas.core.frame.DataFrame'>\n",
      "RangeIndex: 126 entries, 0 to 125\n",
      "Data columns (total 7 columns):\n",
      " #   Column  Non-Null Count  Dtype\n",
      "---  ------  --------------  -----\n",
      " 0   Y       126 non-null    int64\n",
      " 1   X1      126 non-null    int64\n",
      " 2   X2      126 non-null    int64\n",
      " 3   X3      126 non-null    int64\n",
      " 4   X4      126 non-null    int64\n",
      " 5   X5      126 non-null    int64\n",
      " 6   X6      126 non-null    int64\n",
      "dtypes: int64(7)\n",
      "memory usage: 7.0 KB\n"
     ]
    }
   ],
   "source": [
    "df.info() #no null values"
   ]
  },
  {
   "cell_type": "markdown",
   "metadata": {},
   "source": [
    "Data Description:  \n",
    "  \n",
    "Y = target attribute (Y) with values indicating 0 (unhappy) and 1 (happy) customers  \n",
    "X1 = my order was delivered on time  \n",
    "X2 = contents of my order was as I expected  \n",
    "X3 = I ordered everything I wanted to order  \n",
    "X4 = I paid a good price for my order  \n",
    "X5 = I am satisfied with my courier  \n",
    "X6 = the app makes ordering easy for me  "
   ]
  },
  {
   "cell_type": "code",
   "execution_count": 5,
   "metadata": {},
   "outputs": [
    {
     "data": {
      "text/plain": [
       "array([4, 3, 5, 2, 1], dtype=int64)"
      ]
     },
     "execution_count": 5,
     "metadata": {},
     "output_type": "execute_result"
    }
   ],
   "source": [
    "df.X6.unique() # all features contain ratings which are therefore categorical variables."
   ]
  },
  {
   "cell_type": "code",
   "execution_count": 6,
   "metadata": {},
   "outputs": [
    {
     "data": {
      "text/plain": [
       "(57, 69)"
      ]
     },
     "execution_count": 6,
     "metadata": {},
     "output_type": "execute_result"
    }
   ],
   "source": [
    "df[df['Y']==0]['Y'].count(), df[df['Y']==1]['Y'].count()\n",
    "# dataset is more or less balanced; 45% are unhappy (Y=0) and 55% are happy (Y=1)"
   ]
  },
  {
   "cell_type": "code",
   "execution_count": 7,
   "metadata": {
    "scrolled": true
   },
   "outputs": [
    {
     "data": {
      "image/png": "[encoded data removed]",
      "text/plain": [
       "<Figure size 1296x720 with 6 Axes>"
      ]
     },
     "metadata": {
      "needs_background": "light"
     },
     "output_type": "display_data"
    }
   ],
   "source": [
    "#plot countplots for each survey question (i.e.) question and their ratings. Compare the differences in ratings between happy and\n",
    "#unhappy customers.\n",
    "\n",
    "fig, axes = plt.subplots(2,3,figsize=(18,10))\n",
    "axes = [plot for row in axes for plot in row]\n",
    "#plt.legend(labels=['Unhappy', 'Happy'])\n",
    "for ind, feature in enumerate (['X1', 'X2', 'X3', 'X4', 'X5', 'X6']):\n",
    "    sns.countplot(x=df[feature], hue=df['Y'], ax=axes[ind])\n",
    "    axes[ind].legend(labels=['Unhappy', 'Happy'])\n",
    "   "
   ]
  },
  {
   "cell_type": "markdown",
   "metadata": {},
   "source": [
    "A quick glance at the count plots above indicate that there are no vast differences between happy and unhappy customers, except perhaps at the highest rating of 5 for some of the survey questions.  "
   ]
  },
  {
   "cell_type": "markdown",
   "metadata": {},
   "source": [
    "## Test Classification by Logistic Regression, Support Vector Machine, Random Forest Classifier and XG Boost Classifier Models"
   ]
  },
  {
   "cell_type": "code",
   "execution_count": 8,
   "metadata": {},
   "outputs": [],
   "source": [
    "#import libraries for training and testing several ML models\n",
    "from sklearn.model_selection import train_test_split\n",
    "from sklearn.ensemble import RandomForestClassifier\n",
    "from sklearn.linear_model import LogisticRegression\n",
    "from sklearn.svm import SVC\n",
    "from xgboost import XGBClassifier\n",
    "from sklearn.metrics import confusion_matrix, classification_report, accuracy_score\n",
    "from sklearn.metrics import f1_score\n",
    "from sklearn.metrics import recall_score\n",
    "from sklearn.metrics import precision_score"
   ]
  },
  {
   "cell_type": "code",
   "execution_count": 17,
   "metadata": {
    "scrolled": false
   },
   "outputs": [],
   "source": [
    "#Define a function to sequentially test Logistic Regression, Support Vector, Random Forest Classifier and XG Boost Classifier\n",
    "# models\n",
    "\n",
    "def model_sequence(df, rand_state):\n",
    "    \"\"\" \n",
    "    Input: Dataframe, random state for train-test split\n",
    "    Output : Dataframe containining training and testing accuracy scores, precision, recall and f1-score\n",
    "    Output : Feature importances for the Random Forest and XG Boost models\n",
    "    \"\"\"\n",
    "    X = df.drop('Y', axis=1)\n",
    "    y = df.Y\n",
    "    X_train, X_test, y_train, y_test = train_test_split(X,y,test_size = 0.3, random_state = rand_state)\n",
    "\n",
    "    score_dict = {'Logistic Regression':{},\n",
    "                  'Support Vector':{},\n",
    "                  'Random Forest':{}, \n",
    "                  'XG Boost':{}\n",
    "                 }\n",
    "    \n",
    "    def score_dict_edit (key, ML_model):\n",
    "        ML_model.fit(X_train, y_train)\n",
    "        train_pred = ML_model.predict(X_train)\n",
    "        test_pred = ML_model.predict(X_test)\n",
    "        score_dict[key]['Train Accuracy'] = accuracy_score(y_train, train_pred)\n",
    "        score_dict[key]['Test Accuracy'] = accuracy_score(y_test, test_pred)\n",
    "        score_dict[key]['Precision GP 0'] = precision_score(y_test, test_pred, average=None)[0]\n",
    "        score_dict[key]['Precision GP 1'] = precision_score(y_test, test_pred, average=None)[1]\n",
    "        score_dict[key]['Recall GP 0'] = recall_score(y_test, test_pred, average=None)[0]\n",
    "        score_dict[key]['Recall GP 1'] = recall_score(y_test, test_pred, average=None)[1]\n",
    "        score_dict[key]['F1 Sore GP 0'] = f1_score(y_test, test_pred, average=None)[0]\n",
    "        score_dict[key]['F1 Sore GP 1'] = f1_score(y_test, test_pred, average=None)[1]\n",
    "\n",
    "\n",
    "    # create objects for the ML models to be tested \n",
    "    model_logreg = LogisticRegression(max_iter=1000, C=1)\n",
    "    model_SVC=SVC(kernel='rbf', C=5, gamma='auto')\n",
    "    model_rfc = RandomForestClassifier(n_estimators = 200)\n",
    "    model_xgb = XGBClassifier(use_label_encoder=False, eval_metric='mlogloss', n_estimators=100, learning_rate=0.5, max_depth=5)\n",
    "\n",
    "    models=[model_logreg, model_SVC, model_rfc, model_xgb]\n",
    "\n",
    "    for model in models:\n",
    "\n",
    "        if model==model_logreg:\n",
    "            score_dict_edit ('Logistic Regression', model_logreg)\n",
    "        elif model==model_SVC:\n",
    "            score_dict_edit ('Support Vector', model_SVC)\n",
    "        elif model==model_rfc:\n",
    "            score_dict_edit ('Random Forest', model_rfc)\n",
    "        else:\n",
    "            score_dict_edit ('XG Boost', model_xgb)\n",
    "    df_metrics=pd.DataFrame(score_dict).transpose()\n",
    "    rfc_imp = pd.DataFrame({'Feature':X.columns, 'Importance':model_rfc.feature_importances_}).sort_values(by='Importance', ascending=False)\n",
    "    xgb_imp = pd.DataFrame({'Feature':X.columns, 'Importance':model_xgb.feature_importances_}).sort_values(by='Importance', ascending=False)\n",
    "    return df_metrics, rfc_imp, xgb_imp"
   ]
  },
  {
   "cell_type": "code",
   "execution_count": 18,
   "metadata": {
    "scrolled": true
   },
   "outputs": [],
   "source": [
    "df_metrics, rfc_imp, xgb_imp = model_sequence(df, 5)"
   ]
  },
  {
   "cell_type": "code",
   "execution_count": 19,
   "metadata": {
    "scrolled": false
   },
   "outputs": [
    {
     "data": {
      "text/html": [
       "<div>\n",
       "<style scoped>\n",
       "    .dataframe tbody tr th:only-of-type {\n",
       "        vertical-align: middle;\n",
       "    }\n",
       "\n",
       "    .dataframe tbody tr th {\n",
       "        vertical-align: top;\n",
       "    }\n",
       "\n",
       "    .dataframe thead th {\n",
       "        text-align: right;\n",
       "    }\n",
       "</style>\n",
       "<table border=\"1\" class=\"dataframe\">\n",
       "  <thead>\n",
       "    <tr style=\"text-align: right;\">\n",
       "      <th></th>\n",
       "      <th>Train Accuracy</th>\n",
       "      <th>Test Accuracy</th>\n",
       "      <th>Precision GP 0</th>\n",
       "      <th>Precision GP 1</th>\n",
       "      <th>Recall GP 0</th>\n",
       "      <th>Recall GP 1</th>\n",
       "      <th>F1 Sore GP 0</th>\n",
       "      <th>F1 Sore GP 1</th>\n",
       "    </tr>\n",
       "  </thead>\n",
       "  <tbody>\n",
       "    <tr>\n",
       "      <th>Logistic Regression</th>\n",
       "      <td>0.659091</td>\n",
       "      <td>0.526316</td>\n",
       "      <td>0.428571</td>\n",
       "      <td>0.583333</td>\n",
       "      <td>0.3750</td>\n",
       "      <td>0.636364</td>\n",
       "      <td>0.400000</td>\n",
       "      <td>0.608696</td>\n",
       "    </tr>\n",
       "    <tr>\n",
       "      <th>Support Vector</th>\n",
       "      <td>0.829545</td>\n",
       "      <td>0.631579</td>\n",
       "      <td>0.583333</td>\n",
       "      <td>0.653846</td>\n",
       "      <td>0.4375</td>\n",
       "      <td>0.772727</td>\n",
       "      <td>0.500000</td>\n",
       "      <td>0.708333</td>\n",
       "    </tr>\n",
       "    <tr>\n",
       "      <th>Random Forest</th>\n",
       "      <td>0.943182</td>\n",
       "      <td>0.631579</td>\n",
       "      <td>0.571429</td>\n",
       "      <td>0.666667</td>\n",
       "      <td>0.5000</td>\n",
       "      <td>0.727273</td>\n",
       "      <td>0.533333</td>\n",
       "      <td>0.695652</td>\n",
       "    </tr>\n",
       "    <tr>\n",
       "      <th>XG Boost</th>\n",
       "      <td>0.931818</td>\n",
       "      <td>0.578947</td>\n",
       "      <td>0.500000</td>\n",
       "      <td>0.625000</td>\n",
       "      <td>0.4375</td>\n",
       "      <td>0.681818</td>\n",
       "      <td>0.466667</td>\n",
       "      <td>0.652174</td>\n",
       "    </tr>\n",
       "  </tbody>\n",
       "</table>\n",
       "</div>"
      ],
      "text/plain": [
       "                     Train Accuracy  Test Accuracy  Precision GP 0  \\\n",
       "Logistic Regression        0.659091       0.526316        0.428571   \n",
       "Support Vector             0.829545       0.631579        0.583333   \n",
       "Random Forest              0.943182       0.631579        0.571429   \n",
       "XG Boost                   0.931818       0.578947        0.500000   \n",
       "\n",
       "                     Precision GP 1  Recall GP 0  Recall GP 1  F1 Sore GP 0  \\\n",
       "Logistic Regression        0.583333       0.3750     0.636364      0.400000   \n",
       "Support Vector             0.653846       0.4375     0.772727      0.500000   \n",
       "Random Forest              0.666667       0.5000     0.727273      0.533333   \n",
       "XG Boost                   0.625000       0.4375     0.681818      0.466667   \n",
       "\n",
       "                     F1 Sore GP 1  \n",
       "Logistic Regression      0.608696  \n",
       "Support Vector           0.708333  \n",
       "Random Forest            0.695652  \n",
       "XG Boost                 0.652174  "
      ]
     },
     "execution_count": 19,
     "metadata": {},
     "output_type": "execute_result"
    }
   ],
   "source": [
    "df_metrics"
   ]
  },
  {
   "cell_type": "markdown",
   "metadata": {},
   "source": [
    "In the above table of metrics we can see that there is overfitting with all of the models tested. This is especially pronounced for Random Forest and XGBoost algorithms. # The recall and f1-scores for group 0 (unhappy) customers are only 0.5 and 0.53 respectively. This indicates that the model is having trouble correctly identifying the unhappy customers. We would want to know the reasons why a customer is unhappy so that changes can be made to retain them. Therefore, I will try to examine whether we can remove un necessary features in an effort to improve the recall and f1-score for group 0."
   ]
  },
  {
   "cell_type": "code",
   "execution_count": 20,
   "metadata": {
    "scrolled": true
   },
   "outputs": [
    {
     "data": {
      "text/html": [
       "<div>\n",
       "<style scoped>\n",
       "    .dataframe tbody tr th:only-of-type {\n",
       "        vertical-align: middle;\n",
       "    }\n",
       "\n",
       "    .dataframe tbody tr th {\n",
       "        vertical-align: top;\n",
       "    }\n",
       "\n",
       "    .dataframe thead th {\n",
       "        text-align: right;\n",
       "    }\n",
       "</style>\n",
       "<table border=\"1\" class=\"dataframe\">\n",
       "  <thead>\n",
       "    <tr style=\"text-align: right;\">\n",
       "      <th></th>\n",
       "      <th>Feature</th>\n",
       "      <th>Importance</th>\n",
       "    </tr>\n",
       "  </thead>\n",
       "  <tbody>\n",
       "    <tr>\n",
       "      <th>1</th>\n",
       "      <td>X2</td>\n",
       "      <td>0.204033</td>\n",
       "    </tr>\n",
       "    <tr>\n",
       "      <th>4</th>\n",
       "      <td>X5</td>\n",
       "      <td>0.203743</td>\n",
       "    </tr>\n",
       "    <tr>\n",
       "      <th>2</th>\n",
       "      <td>X3</td>\n",
       "      <td>0.191283</td>\n",
       "    </tr>\n",
       "    <tr>\n",
       "      <th>0</th>\n",
       "      <td>X1</td>\n",
       "      <td>0.136338</td>\n",
       "    </tr>\n",
       "    <tr>\n",
       "      <th>3</th>\n",
       "      <td>X4</td>\n",
       "      <td>0.136094</td>\n",
       "    </tr>\n",
       "    <tr>\n",
       "      <th>5</th>\n",
       "      <td>X6</td>\n",
       "      <td>0.128510</td>\n",
       "    </tr>\n",
       "  </tbody>\n",
       "</table>\n",
       "</div>"
      ],
      "text/plain": [
       "  Feature  Importance\n",
       "1      X2    0.204033\n",
       "4      X5    0.203743\n",
       "2      X3    0.191283\n",
       "0      X1    0.136338\n",
       "3      X4    0.136094\n",
       "5      X6    0.128510"
      ]
     },
     "execution_count": 20,
     "metadata": {},
     "output_type": "execute_result"
    }
   ],
   "source": [
    "# Check feature importances of the Random Forest model\n",
    "rfc_imp"
   ]
  },
  {
   "cell_type": "code",
   "execution_count": 21,
   "metadata": {},
   "outputs": [
    {
     "data": {
      "text/html": [
       "<div>\n",
       "<style scoped>\n",
       "    .dataframe tbody tr th:only-of-type {\n",
       "        vertical-align: middle;\n",
       "    }\n",
       "\n",
       "    .dataframe tbody tr th {\n",
       "        vertical-align: top;\n",
       "    }\n",
       "\n",
       "    .dataframe thead th {\n",
       "        text-align: right;\n",
       "    }\n",
       "</style>\n",
       "<table border=\"1\" class=\"dataframe\">\n",
       "  <thead>\n",
       "    <tr style=\"text-align: right;\">\n",
       "      <th></th>\n",
       "      <th>Feature</th>\n",
       "      <th>Importance</th>\n",
       "    </tr>\n",
       "  </thead>\n",
       "  <tbody>\n",
       "    <tr>\n",
       "      <th>2</th>\n",
       "      <td>X3</td>\n",
       "      <td>0.200417</td>\n",
       "    </tr>\n",
       "    <tr>\n",
       "      <th>4</th>\n",
       "      <td>X5</td>\n",
       "      <td>0.200328</td>\n",
       "    </tr>\n",
       "    <tr>\n",
       "      <th>0</th>\n",
       "      <td>X1</td>\n",
       "      <td>0.176122</td>\n",
       "    </tr>\n",
       "    <tr>\n",
       "      <th>1</th>\n",
       "      <td>X2</td>\n",
       "      <td>0.173256</td>\n",
       "    </tr>\n",
       "    <tr>\n",
       "      <th>3</th>\n",
       "      <td>X4</td>\n",
       "      <td>0.136417</td>\n",
       "    </tr>\n",
       "    <tr>\n",
       "      <th>5</th>\n",
       "      <td>X6</td>\n",
       "      <td>0.113461</td>\n",
       "    </tr>\n",
       "  </tbody>\n",
       "</table>\n",
       "</div>"
      ],
      "text/plain": [
       "  Feature  Importance\n",
       "2      X3    0.200417\n",
       "4      X5    0.200328\n",
       "0      X1    0.176122\n",
       "1      X2    0.173256\n",
       "3      X4    0.136417\n",
       "5      X6    0.113461"
      ]
     },
     "execution_count": 21,
     "metadata": {},
     "output_type": "execute_result"
    }
   ],
   "source": [
    "# Check feature importances of the XG Boost model\n",
    "xgb_imp"
   ]
  },
  {
   "cell_type": "code",
   "execution_count": 14,
   "metadata": {},
   "outputs": [],
   "source": [
    "df2 = df.drop(['X6'], axis=1)\n",
    "# Drop X6 (usefulness of the app), which surprisingly, appears to be the least important feature.\n",
    "# Create a new dataframe df2 with just the single feature X6 being droppped"
   ]
  },
  {
   "cell_type": "code",
   "execution_count": 22,
   "metadata": {},
   "outputs": [],
   "source": [
    "df_metrics2, rfc_imp2, xgb_imp2 = model_sequence(df2, 3)"
   ]
  },
  {
   "cell_type": "code",
   "execution_count": 23,
   "metadata": {},
   "outputs": [
    {
     "data": {
      "text/html": [
       "<div>\n",
       "<style scoped>\n",
       "    .dataframe tbody tr th:only-of-type {\n",
       "        vertical-align: middle;\n",
       "    }\n",
       "\n",
       "    .dataframe tbody tr th {\n",
       "        vertical-align: top;\n",
       "    }\n",
       "\n",
       "    .dataframe thead th {\n",
       "        text-align: right;\n",
       "    }\n",
       "</style>\n",
       "<table border=\"1\" class=\"dataframe\">\n",
       "  <thead>\n",
       "    <tr style=\"text-align: right;\">\n",
       "      <th></th>\n",
       "      <th>Train Accuracy</th>\n",
       "      <th>Test Accuracy</th>\n",
       "      <th>Precision GP 0</th>\n",
       "      <th>Precision GP 1</th>\n",
       "      <th>Recall GP 0</th>\n",
       "      <th>Recall GP 1</th>\n",
       "      <th>F1 Sore GP 0</th>\n",
       "      <th>F1 Sore GP 1</th>\n",
       "    </tr>\n",
       "  </thead>\n",
       "  <tbody>\n",
       "    <tr>\n",
       "      <th>Logistic Regression</th>\n",
       "      <td>0.534091</td>\n",
       "      <td>0.657895</td>\n",
       "      <td>0.700000</td>\n",
       "      <td>0.642857</td>\n",
       "      <td>0.411765</td>\n",
       "      <td>0.857143</td>\n",
       "      <td>0.518519</td>\n",
       "      <td>0.734694</td>\n",
       "    </tr>\n",
       "    <tr>\n",
       "      <th>Support Vector</th>\n",
       "      <td>0.795455</td>\n",
       "      <td>0.578947</td>\n",
       "      <td>0.533333</td>\n",
       "      <td>0.608696</td>\n",
       "      <td>0.470588</td>\n",
       "      <td>0.666667</td>\n",
       "      <td>0.500000</td>\n",
       "      <td>0.636364</td>\n",
       "    </tr>\n",
       "    <tr>\n",
       "      <th>Random Forest</th>\n",
       "      <td>0.886364</td>\n",
       "      <td>0.710526</td>\n",
       "      <td>0.750000</td>\n",
       "      <td>0.692308</td>\n",
       "      <td>0.529412</td>\n",
       "      <td>0.857143</td>\n",
       "      <td>0.620690</td>\n",
       "      <td>0.765957</td>\n",
       "    </tr>\n",
       "    <tr>\n",
       "      <th>XG Boost</th>\n",
       "      <td>0.886364</td>\n",
       "      <td>0.763158</td>\n",
       "      <td>0.750000</td>\n",
       "      <td>0.772727</td>\n",
       "      <td>0.705882</td>\n",
       "      <td>0.809524</td>\n",
       "      <td>0.727273</td>\n",
       "      <td>0.790698</td>\n",
       "    </tr>\n",
       "  </tbody>\n",
       "</table>\n",
       "</div>"
      ],
      "text/plain": [
       "                     Train Accuracy  Test Accuracy  Precision GP 0  \\\n",
       "Logistic Regression        0.534091       0.657895        0.700000   \n",
       "Support Vector             0.795455       0.578947        0.533333   \n",
       "Random Forest              0.886364       0.710526        0.750000   \n",
       "XG Boost                   0.886364       0.763158        0.750000   \n",
       "\n",
       "                     Precision GP 1  Recall GP 0  Recall GP 1  F1 Sore GP 0  \\\n",
       "Logistic Regression        0.642857     0.411765     0.857143      0.518519   \n",
       "Support Vector             0.608696     0.470588     0.666667      0.500000   \n",
       "Random Forest              0.692308     0.529412     0.857143      0.620690   \n",
       "XG Boost                   0.772727     0.705882     0.809524      0.727273   \n",
       "\n",
       "                     F1 Sore GP 1  \n",
       "Logistic Regression      0.734694  \n",
       "Support Vector           0.636364  \n",
       "Random Forest            0.765957  \n",
       "XG Boost                 0.790698  "
      ]
     },
     "execution_count": 23,
     "metadata": {},
     "output_type": "execute_result"
    }
   ],
   "source": [
    "df_metrics2"
   ]
  },
  {
   "cell_type": "raw",
   "metadata": {},
   "source": [
    "The model was tested by dropping the features X1, X4 and X6 alone or in combinations of 2 or 3 groups, but dropping only X6 yielded the best overall accuracy. Therefore, I think that the question about the usefulness of the ordering app. is unnecessary for the survey questionnaire."
   ]
  },
  {
   "cell_type": "code",
   "execution_count": 25,
   "metadata": {},
   "outputs": [],
   "source": [
    "from sklearn.model_selection import GridSearchCV"
   ]
  },
  {
   "cell_type": "code",
   "execution_count": 36,
   "metadata": {},
   "outputs": [],
   "source": [
    "X = df2.drop('Y', axis=1)\n",
    "y = df2.Y\n",
    "X_train, X_test, y_train, y_test = train_test_split(X,y,test_size = 0.3, random_state = 5)"
   ]
  },
  {
   "cell_type": "code",
   "execution_count": 37,
   "metadata": {},
   "outputs": [],
   "source": [
    "xgb = XGBClassifier(use_label_encoder=False, eval_metric='mlogloss')"
   ]
  },
  {
   "cell_type": "code",
   "execution_count": 38,
   "metadata": {},
   "outputs": [
    {
     "name": "stdout",
     "output_type": "stream",
     "text": [
      "Fitting 5 folds for each of 108 candidates, totalling 540 fits\n",
      "Best parameters: {'colsample_bytree': 0.8, 'learning_rate': 0.01, 'max_depth': 3, 'n_estimators': 100}\n"
     ]
    }
   ],
   "source": [
    "params = { 'max_depth': [3,5, 6],\n",
    "           'learning_rate': [0.01, 0.5, 0.6, 0.7],\n",
    "           'n_estimators': [100, 500, 1000],\n",
    "           'colsample_bytree': [0.7, 0.8, 0.9]}\n",
    "\n",
    "clf = GridSearchCV(estimator=xgb, \n",
    "                   param_grid=params,\n",
    "                   scoring='neg_mean_squared_error', \n",
    "                   verbose=1)\n",
    "\n",
    "clf.fit(X,y)\n",
    "\n",
    "print(\"Best parameters:\", clf.best_params_)"
   ]
  },
  {
   "cell_type": "code",
   "execution_count": 39,
   "metadata": {},
   "outputs": [
    {
     "name": "stdout",
     "output_type": "stream",
     "text": [
      "Test Accuracy: 0.5526315789473685\n",
      "Train Accuracy: 0.6818181818181818\n"
     ]
    }
   ],
   "source": [
    "#train a new xgb model with the best parameters\n",
    "xgb2 = XGBClassifier(use_label_encoder=False, eval_metric='mlogloss', colsample_bytree = 0.8, learning_rate = 0.01, max_depth = 3, n_estimators = 100)\n",
    "\n",
    "xgb2.fit(X_train, y_train)\n",
    "print('Test Accuracy:', xgb2.score(X_test, y_test))\n",
    "print('Train Accuracy:',xgb2.score(X_train, y_train))"
   ]
  },
  {
   "cell_type": "code",
   "execution_count": 40,
   "metadata": {},
   "outputs": [
    {
     "name": "stdout",
     "output_type": "stream",
     "text": [
      "              precision    recall  f1-score   support\n",
      "\n",
      "           0       0.48      0.62      0.54        16\n",
      "           1       0.65      0.50      0.56        22\n",
      "\n",
      "    accuracy                           0.55        38\n",
      "   macro avg       0.56      0.56      0.55        38\n",
      "weighted avg       0.58      0.55      0.55        38\n",
      "\n",
      "[[10  6]\n",
      " [11 11]]\n"
     ]
    }
   ],
   "source": [
    "#surprisingly, the 'best parameters' did not yield metrics better than what worked with this model previously. Why is that?\n",
    "pred = xgb2.predict(X_test)\n",
    "print(classification_report(y_test,pred))\n",
    "print(confusion_matrix(y_test,pred))"
   ]
  },
  {
   "cell_type": "markdown",
   "metadata": {},
   "source": [
    "## Concluding Remarks"
   ]
  },
  {
   "cell_type": "markdown",
   "metadata": {},
   "source": [
    "Even though the overall accuracy is the same as when the Random Forest Classifier was used, the recall and f1-scores for group 0 (unhappy) customers have significantly improved indicating that the XG Boost model fares better in identifying unhappy customers. Hyperparameter tuning attempt did not yield parameters that could further improve the model's performance. "
   ]
  },
  {
   "cell_type": "markdown",
   "metadata": {},
   "source": [
    "Therefore, I concluded that XG Boost model fares better than a Random Forest model for this particular dataset in predicting customer happiness.  Based on the results, the question X6 (the app makes ordering easy for me) can be excluded in the future from the questionnaire."
   ]
  },
  {
   "cell_type": "code",
   "execution_count": null,
   "metadata": {},
   "outputs": [],
   "source": []
  }
 ],
 "metadata": {
  "kernelspec": {
   "display_name": "Python 3",
   "language": "python",
   "name": "python3"
  },
  "language_info": {
   "codemirror_mode": {
    "name": "ipython",
    "version": 3
   },
   "file_extension": ".py",
   "mimetype": "text/x-python",
   "name": "python",
   "nbconvert_exporter": "python",
   "pygments_lexer": "ipython3",
   "version": "3.8.5"
  }
 },
 "nbformat": 4,
 "nbformat_minor": 4
}
