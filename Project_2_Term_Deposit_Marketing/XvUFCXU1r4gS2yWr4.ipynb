{
 "cells": [
  {
   "cell_type": "markdown",
   "metadata": {},
   "source": [
    "## TERM DEPOSIT MARKETING\n",
    "In this project, various bank customer data such as age, job, marital status, education etc. are used to predict if a customer will subscribe to a term deposit account or not.   \n",
    "\n",
    "Following are the attributes of the datset   \n",
    "   \n",
    "age : age of customer (numeric)   \n",
    "job : type of job (categorical)   \n",
    "marital : marital status (categorical)   \n",
    "education (categorical)   \n",
    "default: has credit in default? (binary)   \n",
    "balance: average yearly balance, in euros (numeric)   \n",
    "housing: has a housing loan? (binary)   \n",
    "loan: has personal loan? (binary)   \n",
    "contact: contact communication type (categorical)   \n",
    "day: last contact day of the month (numeric)   \n",
    "month: last contact month of year (categorical)   \n",
    "duration: last contact duration, in seconds (numeric)   \n",
    "campaign: number of contacts performed during this campaign and for this client (numeric, includes last contact)   \n",
    "Output (desired target):   \n",
    "   "
   ]
  },
  {
   "cell_type": "code",
   "execution_count": 2,
   "metadata": {},
   "outputs": [],
   "source": [
    "import numpy as np\n",
    "import pandas as pd\n",
    "import matplotlib.pyplot as plt\n",
    "import seaborn as sns\n",
    "from scipy.stats import chi2_contingency\n",
    "from sklearn.model_selection import train_test_split\n",
    "from imblearn.over_sampling import SMOTE\n",
    "from sklearn.ensemble import RandomForestClassifier\n",
    "from sklearn.linear_model import LogisticRegression\n",
    "from sklearn.svm import SVC\n",
    "from xgboost import XGBClassifier\n",
    "from sklearn.metrics import confusion_matrix, classification_report, accuracy_score\n",
    "from sklearn.metrics import f1_score\n",
    "from sklearn.metrics import recall_score\n",
    "from sklearn.metrics import precision_score\n",
    "\n",
    "from sklearn.model_selection import StratifiedKFold"
   ]
  },
  {
   "cell_type": "code",
   "execution_count": 3,
   "metadata": {},
   "outputs": [],
   "source": [
    "df1 =  pd.read_csv('term-deposit-marketing-2020.csv')"
   ]
  },
  {
   "cell_type": "code",
   "execution_count": 4,
   "metadata": {},
   "outputs": [
    {
     "data": {
      "text/html": [
       "<div>\n",
       "<style scoped>\n",
       "    .dataframe tbody tr th:only-of-type {\n",
       "        vertical-align: middle;\n",
       "    }\n",
       "\n",
       "    .dataframe tbody tr th {\n",
       "        vertical-align: top;\n",
       "    }\n",
       "\n",
       "    .dataframe thead th {\n",
       "        text-align: right;\n",
       "    }\n",
       "</style>\n",
       "<table border=\"1\" class=\"dataframe\">\n",
       "  <thead>\n",
       "    <tr style=\"text-align: right;\">\n",
       "      <th></th>\n",
       "      <th>age</th>\n",
       "      <th>job</th>\n",
       "      <th>marital</th>\n",
       "      <th>education</th>\n",
       "      <th>default</th>\n",
       "      <th>balance</th>\n",
       "      <th>housing</th>\n",
       "      <th>loan</th>\n",
       "      <th>contact</th>\n",
       "      <th>day</th>\n",
       "      <th>month</th>\n",
       "      <th>duration</th>\n",
       "      <th>campaign</th>\n",
       "      <th>y</th>\n",
       "    </tr>\n",
       "  </thead>\n",
       "  <tbody>\n",
       "    <tr>\n",
       "      <th>0</th>\n",
       "      <td>58</td>\n",
       "      <td>management</td>\n",
       "      <td>married</td>\n",
       "      <td>tertiary</td>\n",
       "      <td>no</td>\n",
       "      <td>2143</td>\n",
       "      <td>yes</td>\n",
       "      <td>no</td>\n",
       "      <td>unknown</td>\n",
       "      <td>5</td>\n",
       "      <td>may</td>\n",
       "      <td>261</td>\n",
       "      <td>1</td>\n",
       "      <td>no</td>\n",
       "    </tr>\n",
       "    <tr>\n",
       "      <th>1</th>\n",
       "      <td>44</td>\n",
       "      <td>technician</td>\n",
       "      <td>single</td>\n",
       "      <td>secondary</td>\n",
       "      <td>no</td>\n",
       "      <td>29</td>\n",
       "      <td>yes</td>\n",
       "      <td>no</td>\n",
       "      <td>unknown</td>\n",
       "      <td>5</td>\n",
       "      <td>may</td>\n",
       "      <td>151</td>\n",
       "      <td>1</td>\n",
       "      <td>no</td>\n",
       "    </tr>\n",
       "    <tr>\n",
       "      <th>2</th>\n",
       "      <td>33</td>\n",
       "      <td>entrepreneur</td>\n",
       "      <td>married</td>\n",
       "      <td>secondary</td>\n",
       "      <td>no</td>\n",
       "      <td>2</td>\n",
       "      <td>yes</td>\n",
       "      <td>yes</td>\n",
       "      <td>unknown</td>\n",
       "      <td>5</td>\n",
       "      <td>may</td>\n",
       "      <td>76</td>\n",
       "      <td>1</td>\n",
       "      <td>no</td>\n",
       "    </tr>\n",
       "    <tr>\n",
       "      <th>3</th>\n",
       "      <td>47</td>\n",
       "      <td>blue-collar</td>\n",
       "      <td>married</td>\n",
       "      <td>unknown</td>\n",
       "      <td>no</td>\n",
       "      <td>1506</td>\n",
       "      <td>yes</td>\n",
       "      <td>no</td>\n",
       "      <td>unknown</td>\n",
       "      <td>5</td>\n",
       "      <td>may</td>\n",
       "      <td>92</td>\n",
       "      <td>1</td>\n",
       "      <td>no</td>\n",
       "    </tr>\n",
       "    <tr>\n",
       "      <th>4</th>\n",
       "      <td>33</td>\n",
       "      <td>unknown</td>\n",
       "      <td>single</td>\n",
       "      <td>unknown</td>\n",
       "      <td>no</td>\n",
       "      <td>1</td>\n",
       "      <td>no</td>\n",
       "      <td>no</td>\n",
       "      <td>unknown</td>\n",
       "      <td>5</td>\n",
       "      <td>may</td>\n",
       "      <td>198</td>\n",
       "      <td>1</td>\n",
       "      <td>no</td>\n",
       "    </tr>\n",
       "  </tbody>\n",
       "</table>\n",
       "</div>"
      ],
      "text/plain": [
       "   age           job  marital  education default  balance housing loan  \\\n",
       "0   58    management  married   tertiary      no     2143     yes   no   \n",
       "1   44    technician   single  secondary      no       29     yes   no   \n",
       "2   33  entrepreneur  married  secondary      no        2     yes  yes   \n",
       "3   47   blue-collar  married    unknown      no     1506     yes   no   \n",
       "4   33       unknown   single    unknown      no        1      no   no   \n",
       "\n",
       "   contact  day month  duration  campaign   y  \n",
       "0  unknown    5   may       261         1  no  \n",
       "1  unknown    5   may       151         1  no  \n",
       "2  unknown    5   may        76         1  no  \n",
       "3  unknown    5   may        92         1  no  \n",
       "4  unknown    5   may       198         1  no  "
      ]
     },
     "execution_count": 4,
     "metadata": {},
     "output_type": "execute_result"
    }
   ],
   "source": [
    "df1.head()"
   ]
  },
  {
   "cell_type": "code",
   "execution_count": 5,
   "metadata": {},
   "outputs": [
    {
     "name": "stdout",
     "output_type": "stream",
     "text": [
      "<class 'pandas.core.frame.DataFrame'>\n",
      "RangeIndex: 40000 entries, 0 to 39999\n",
      "Data columns (total 14 columns):\n",
      " #   Column     Non-Null Count  Dtype \n",
      "---  ------     --------------  ----- \n",
      " 0   age        40000 non-null  int64 \n",
      " 1   job        40000 non-null  object\n",
      " 2   marital    40000 non-null  object\n",
      " 3   education  40000 non-null  object\n",
      " 4   default    40000 non-null  object\n",
      " 5   balance    40000 non-null  int64 \n",
      " 6   housing    40000 non-null  object\n",
      " 7   loan       40000 non-null  object\n",
      " 8   contact    40000 non-null  object\n",
      " 9   day        40000 non-null  int64 \n",
      " 10  month      40000 non-null  object\n",
      " 11  duration   40000 non-null  int64 \n",
      " 12  campaign   40000 non-null  int64 \n",
      " 13  y          40000 non-null  object\n",
      "dtypes: int64(5), object(9)\n",
      "memory usage: 4.3+ MB\n"
     ]
    }
   ],
   "source": [
    "df1.info() # no null values"
   ]
  },
  {
   "cell_type": "code",
   "execution_count": 6,
   "metadata": {},
   "outputs": [
    {
     "data": {
      "text/plain": [
       "<AxesSubplot:xlabel='y', ylabel='count'>"
      ]
     },
     "execution_count": 6,
     "metadata": {},
     "output_type": "execute_result"
    },
    {
     "data": {
      "image/png": "[encoded data removed]",
      "text/plain": [
       "<Figure size 432x288 with 1 Axes>"
      ]
     },
     "metadata": {
      "needs_background": "light"
     },
     "output_type": "display_data"
    }
   ],
   "source": [
    "# The dataset is highly imbalanced. Less than 10 % are the 'yes' group (subscribed to a term deposit account)\n",
    "# This is the group that is of interest to us. \n",
    "# That is, which customer characteristics will make him/her to subscribe to a term deposit account\n",
    "\n",
    "sns.countplot(x='y', data=df1)"
   ]
  },
  {
   "cell_type": "markdown",
   "metadata": {},
   "source": [
    "## Chi Square Test\n",
    "\n",
    "\n",
    "Many of the features such as job, marital status, education have categorical values. One of the initial steps would be to determine if these features have any association to the outcome (i.e. said 'yes' or 'no' to a term deposit account subscription. Our null and alternate hypothesis are as follows;  \n",
    "  \n",
    "NULL HYPOTHESIS H0: Categorical variable tested is not a significant predictor of the outcome variable 'y'  \n",
    "ALTERNATE HYPOTHESIS H1: Categorical variable tested is could be a significant predictor of the outcome variable 'y'  \n",
    "  \n",
    "We will use the Chi Square or the Goodness of Fit test to check the independence of these variables and a p value < 0.05 will be considered sufficient to reject the NULL HYPOTHESIS."
   ]
  },
  {
   "cell_type": "code",
   "execution_count": 7,
   "metadata": {},
   "outputs": [],
   "source": [
    "# The following function calculates the Chi Square p-value when comparing the categorical variable in list cat_var\n",
    "# against the outcome variable 'y'  ('yes' or 'no')\n",
    "\n",
    "\n",
    "cat_var = ['job', 'marital', 'education', 'default', 'housing', 'loan', 'contact', 'day', 'month', 'campaign']\n",
    "def chi_sq (df):\n",
    "    \"\"\"\n",
    "    INPUT : Dataframe containing categorical data for columns specified in cat_var\n",
    "    The function calculates the Chi-Square p values when comparing between each of the variables and the output variable 'y'\n",
    "    OUTPUT : a dataframe containing the p-values corresponding to each of the variables\n",
    "    \"\"\"\n",
    "    p_Vals_dict = {}\n",
    "    for feat in cat_var:\n",
    "        cross_tab = pd.crosstab(df1[feat], df1['y'])\n",
    "        chiVal, pVal,degfrdm, exp = chi2_contingency(cross_tab)\n",
    "        p_Vals_dict[feat] = pVal\n",
    "    \n",
    "    p_Vals_df = pd.DataFrame(index = ['Job Type', 'Marital Status', 'Education Level', 'Default History', \n",
    "                                      'Housing Loan', 'Personal Loan', 'Contact Method', 'Last Contact Day', \n",
    "                                      'Last Contact Month', 'Number of Contacts'], \n",
    "                             data = p_Vals_dict.values(), columns = ['p-value'])\n",
    "    return p_Vals_df\n",
    "    "
   ]
  },
  {
   "cell_type": "code",
   "execution_count": 8,
   "metadata": {
    "scrolled": true
   },
   "outputs": [
    {
     "data": {
      "text/html": [
       "<div>\n",
       "<style scoped>\n",
       "    .dataframe tbody tr th:only-of-type {\n",
       "        vertical-align: middle;\n",
       "    }\n",
       "\n",
       "    .dataframe tbody tr th {\n",
       "        vertical-align: top;\n",
       "    }\n",
       "\n",
       "    .dataframe thead th {\n",
       "        text-align: right;\n",
       "    }\n",
       "</style>\n",
       "<table border=\"1\" class=\"dataframe\">\n",
       "  <thead>\n",
       "    <tr style=\"text-align: right;\">\n",
       "      <th></th>\n",
       "      <th>p-value</th>\n",
       "    </tr>\n",
       "  </thead>\n",
       "  <tbody>\n",
       "    <tr>\n",
       "      <th>Job Type</th>\n",
       "      <td>1.676135e-26</td>\n",
       "    </tr>\n",
       "    <tr>\n",
       "      <th>Marital Status</th>\n",
       "      <td>3.091031e-30</td>\n",
       "    </tr>\n",
       "    <tr>\n",
       "      <th>Education Level</th>\n",
       "      <td>8.061911e-21</td>\n",
       "    </tr>\n",
       "    <tr>\n",
       "      <th>Default History</th>\n",
       "      <td>2.137353e-01</td>\n",
       "    </tr>\n",
       "    <tr>\n",
       "      <th>Housing Loan</th>\n",
       "      <td>2.048343e-27</td>\n",
       "    </tr>\n",
       "    <tr>\n",
       "      <th>Personal Loan</th>\n",
       "      <td>6.395487e-10</td>\n",
       "    </tr>\n",
       "    <tr>\n",
       "      <th>Contact Method</th>\n",
       "      <td>7.242047e-71</td>\n",
       "    </tr>\n",
       "    <tr>\n",
       "      <th>Last Contact Day</th>\n",
       "      <td>4.733110e-70</td>\n",
       "    </tr>\n",
       "    <tr>\n",
       "      <th>Last Contact Month</th>\n",
       "      <td>0.000000e+00</td>\n",
       "    </tr>\n",
       "    <tr>\n",
       "      <th>Number of Contacts</th>\n",
       "      <td>5.174950e-06</td>\n",
       "    </tr>\n",
       "  </tbody>\n",
       "</table>\n",
       "</div>"
      ],
      "text/plain": [
       "                         p-value\n",
       "Job Type            1.676135e-26\n",
       "Marital Status      3.091031e-30\n",
       "Education Level     8.061911e-21\n",
       "Default History     2.137353e-01\n",
       "Housing Loan        2.048343e-27\n",
       "Personal Loan       6.395487e-10\n",
       "Contact Method      7.242047e-71\n",
       "Last Contact Day    4.733110e-70\n",
       "Last Contact Month  0.000000e+00\n",
       "Number of Contacts  5.174950e-06"
      ]
     },
     "execution_count": 8,
     "metadata": {},
     "output_type": "execute_result"
    }
   ],
   "source": [
    "chi_sq(df1)"
   ]
  },
  {
   "cell_type": "markdown",
   "metadata": {},
   "source": [
    "With the exception of default history, the p value is less than 0.05 for all the categorical features tested. This indicates that, for those features, we can safely reject the null hypothesis. That is, these features are not a significant predictor of the choice of a customer to sign up for a term deposit account (or not). However, default history appears to be a predictor of a customers' choice (or the bank will not consider applications of customers with a history of default)."
   ]
  },
  {
   "cell_type": "markdown",
   "metadata": {},
   "source": [
    "## Feature Engineering\n",
    "Convert the categorical variables with text into dummy variables."
   ]
  },
  {
   "cell_type": "code",
   "execution_count": 9,
   "metadata": {},
   "outputs": [],
   "source": [
    "# make a deep copy of df1\n",
    "df2 = df1.copy()"
   ]
  },
  {
   "cell_type": "code",
   "execution_count": 10,
   "metadata": {},
   "outputs": [],
   "source": [
    "# replace all 'no's with 0 and 'yes' with 1 in the whole dataframe\n",
    "df2.replace({'no':0, 'yes':1}, inplace = True)"
   ]
  },
  {
   "cell_type": "code",
   "execution_count": 11,
   "metadata": {},
   "outputs": [
    {
     "data": {
      "text/html": [
       "<div>\n",
       "<style scoped>\n",
       "    .dataframe tbody tr th:only-of-type {\n",
       "        vertical-align: middle;\n",
       "    }\n",
       "\n",
       "    .dataframe tbody tr th {\n",
       "        vertical-align: top;\n",
       "    }\n",
       "\n",
       "    .dataframe thead th {\n",
       "        text-align: right;\n",
       "    }\n",
       "</style>\n",
       "<table border=\"1\" class=\"dataframe\">\n",
       "  <thead>\n",
       "    <tr style=\"text-align: right;\">\n",
       "      <th></th>\n",
       "      <th>age</th>\n",
       "      <th>job</th>\n",
       "      <th>marital</th>\n",
       "      <th>education</th>\n",
       "      <th>default</th>\n",
       "      <th>balance</th>\n",
       "      <th>housing</th>\n",
       "      <th>loan</th>\n",
       "      <th>contact</th>\n",
       "      <th>day</th>\n",
       "      <th>month</th>\n",
       "      <th>duration</th>\n",
       "      <th>campaign</th>\n",
       "      <th>y</th>\n",
       "    </tr>\n",
       "  </thead>\n",
       "  <tbody>\n",
       "    <tr>\n",
       "      <th>0</th>\n",
       "      <td>58</td>\n",
       "      <td>management</td>\n",
       "      <td>married</td>\n",
       "      <td>tertiary</td>\n",
       "      <td>0</td>\n",
       "      <td>2143</td>\n",
       "      <td>1</td>\n",
       "      <td>0</td>\n",
       "      <td>unknown</td>\n",
       "      <td>5</td>\n",
       "      <td>may</td>\n",
       "      <td>261</td>\n",
       "      <td>1</td>\n",
       "      <td>0</td>\n",
       "    </tr>\n",
       "    <tr>\n",
       "      <th>1</th>\n",
       "      <td>44</td>\n",
       "      <td>technician</td>\n",
       "      <td>single</td>\n",
       "      <td>secondary</td>\n",
       "      <td>0</td>\n",
       "      <td>29</td>\n",
       "      <td>1</td>\n",
       "      <td>0</td>\n",
       "      <td>unknown</td>\n",
       "      <td>5</td>\n",
       "      <td>may</td>\n",
       "      <td>151</td>\n",
       "      <td>1</td>\n",
       "      <td>0</td>\n",
       "    </tr>\n",
       "    <tr>\n",
       "      <th>2</th>\n",
       "      <td>33</td>\n",
       "      <td>entrepreneur</td>\n",
       "      <td>married</td>\n",
       "      <td>secondary</td>\n",
       "      <td>0</td>\n",
       "      <td>2</td>\n",
       "      <td>1</td>\n",
       "      <td>1</td>\n",
       "      <td>unknown</td>\n",
       "      <td>5</td>\n",
       "      <td>may</td>\n",
       "      <td>76</td>\n",
       "      <td>1</td>\n",
       "      <td>0</td>\n",
       "    </tr>\n",
       "    <tr>\n",
       "      <th>3</th>\n",
       "      <td>47</td>\n",
       "      <td>blue-collar</td>\n",
       "      <td>married</td>\n",
       "      <td>unknown</td>\n",
       "      <td>0</td>\n",
       "      <td>1506</td>\n",
       "      <td>1</td>\n",
       "      <td>0</td>\n",
       "      <td>unknown</td>\n",
       "      <td>5</td>\n",
       "      <td>may</td>\n",
       "      <td>92</td>\n",
       "      <td>1</td>\n",
       "      <td>0</td>\n",
       "    </tr>\n",
       "    <tr>\n",
       "      <th>4</th>\n",
       "      <td>33</td>\n",
       "      <td>unknown</td>\n",
       "      <td>single</td>\n",
       "      <td>unknown</td>\n",
       "      <td>0</td>\n",
       "      <td>1</td>\n",
       "      <td>0</td>\n",
       "      <td>0</td>\n",
       "      <td>unknown</td>\n",
       "      <td>5</td>\n",
       "      <td>may</td>\n",
       "      <td>198</td>\n",
       "      <td>1</td>\n",
       "      <td>0</td>\n",
       "    </tr>\n",
       "  </tbody>\n",
       "</table>\n",
       "</div>"
      ],
      "text/plain": [
       "   age           job  marital  education  default  balance  housing  loan  \\\n",
       "0   58    management  married   tertiary        0     2143        1     0   \n",
       "1   44    technician   single  secondary        0       29        1     0   \n",
       "2   33  entrepreneur  married  secondary        0        2        1     1   \n",
       "3   47   blue-collar  married    unknown        0     1506        1     0   \n",
       "4   33       unknown   single    unknown        0        1        0     0   \n",
       "\n",
       "   contact  day month  duration  campaign  y  \n",
       "0  unknown    5   may       261         1  0  \n",
       "1  unknown    5   may       151         1  0  \n",
       "2  unknown    5   may        76         1  0  \n",
       "3  unknown    5   may        92         1  0  \n",
       "4  unknown    5   may       198         1  0  "
      ]
     },
     "execution_count": 11,
     "metadata": {},
     "output_type": "execute_result"
    }
   ],
   "source": [
    "df2.head()"
   ]
  },
  {
   "cell_type": "code",
   "execution_count": 12,
   "metadata": {},
   "outputs": [],
   "source": [
    "#create dummy columns for the following columns, and drop the first of the dummy columns\n",
    "df3 = pd.get_dummies(df2, columns=['job','marital','month','education','contact', 'day'], drop_first=True)"
   ]
  },
  {
   "cell_type": "code",
   "execution_count": 13,
   "metadata": {
    "scrolled": false
   },
   "outputs": [
    {
     "data": {
      "text/html": [
       "<div>\n",
       "<style scoped>\n",
       "    .dataframe tbody tr th:only-of-type {\n",
       "        vertical-align: middle;\n",
       "    }\n",
       "\n",
       "    .dataframe tbody tr th {\n",
       "        vertical-align: top;\n",
       "    }\n",
       "\n",
       "    .dataframe thead th {\n",
       "        text-align: right;\n",
       "    }\n",
       "</style>\n",
       "<table border=\"1\" class=\"dataframe\">\n",
       "  <thead>\n",
       "    <tr style=\"text-align: right;\">\n",
       "      <th></th>\n",
       "      <th>age</th>\n",
       "      <th>default</th>\n",
       "      <th>balance</th>\n",
       "      <th>housing</th>\n",
       "      <th>loan</th>\n",
       "      <th>duration</th>\n",
       "      <th>campaign</th>\n",
       "      <th>y</th>\n",
       "      <th>job_blue-collar</th>\n",
       "      <th>job_entrepreneur</th>\n",
       "      <th>...</th>\n",
       "      <th>day_22</th>\n",
       "      <th>day_23</th>\n",
       "      <th>day_24</th>\n",
       "      <th>day_25</th>\n",
       "      <th>day_26</th>\n",
       "      <th>day_27</th>\n",
       "      <th>day_28</th>\n",
       "      <th>day_29</th>\n",
       "      <th>day_30</th>\n",
       "      <th>day_31</th>\n",
       "    </tr>\n",
       "  </thead>\n",
       "  <tbody>\n",
       "    <tr>\n",
       "      <th>0</th>\n",
       "      <td>58</td>\n",
       "      <td>0</td>\n",
       "      <td>2143</td>\n",
       "      <td>1</td>\n",
       "      <td>0</td>\n",
       "      <td>261</td>\n",
       "      <td>1</td>\n",
       "      <td>0</td>\n",
       "      <td>0</td>\n",
       "      <td>0</td>\n",
       "      <td>...</td>\n",
       "      <td>0</td>\n",
       "      <td>0</td>\n",
       "      <td>0</td>\n",
       "      <td>0</td>\n",
       "      <td>0</td>\n",
       "      <td>0</td>\n",
       "      <td>0</td>\n",
       "      <td>0</td>\n",
       "      <td>0</td>\n",
       "      <td>0</td>\n",
       "    </tr>\n",
       "    <tr>\n",
       "      <th>1</th>\n",
       "      <td>44</td>\n",
       "      <td>0</td>\n",
       "      <td>29</td>\n",
       "      <td>1</td>\n",
       "      <td>0</td>\n",
       "      <td>151</td>\n",
       "      <td>1</td>\n",
       "      <td>0</td>\n",
       "      <td>0</td>\n",
       "      <td>0</td>\n",
       "      <td>...</td>\n",
       "      <td>0</td>\n",
       "      <td>0</td>\n",
       "      <td>0</td>\n",
       "      <td>0</td>\n",
       "      <td>0</td>\n",
       "      <td>0</td>\n",
       "      <td>0</td>\n",
       "      <td>0</td>\n",
       "      <td>0</td>\n",
       "      <td>0</td>\n",
       "    </tr>\n",
       "    <tr>\n",
       "      <th>2</th>\n",
       "      <td>33</td>\n",
       "      <td>0</td>\n",
       "      <td>2</td>\n",
       "      <td>1</td>\n",
       "      <td>1</td>\n",
       "      <td>76</td>\n",
       "      <td>1</td>\n",
       "      <td>0</td>\n",
       "      <td>0</td>\n",
       "      <td>1</td>\n",
       "      <td>...</td>\n",
       "      <td>0</td>\n",
       "      <td>0</td>\n",
       "      <td>0</td>\n",
       "      <td>0</td>\n",
       "      <td>0</td>\n",
       "      <td>0</td>\n",
       "      <td>0</td>\n",
       "      <td>0</td>\n",
       "      <td>0</td>\n",
       "      <td>0</td>\n",
       "    </tr>\n",
       "    <tr>\n",
       "      <th>3</th>\n",
       "      <td>47</td>\n",
       "      <td>0</td>\n",
       "      <td>1506</td>\n",
       "      <td>1</td>\n",
       "      <td>0</td>\n",
       "      <td>92</td>\n",
       "      <td>1</td>\n",
       "      <td>0</td>\n",
       "      <td>1</td>\n",
       "      <td>0</td>\n",
       "      <td>...</td>\n",
       "      <td>0</td>\n",
       "      <td>0</td>\n",
       "      <td>0</td>\n",
       "      <td>0</td>\n",
       "      <td>0</td>\n",
       "      <td>0</td>\n",
       "      <td>0</td>\n",
       "      <td>0</td>\n",
       "      <td>0</td>\n",
       "      <td>0</td>\n",
       "    </tr>\n",
       "    <tr>\n",
       "      <th>4</th>\n",
       "      <td>33</td>\n",
       "      <td>0</td>\n",
       "      <td>1</td>\n",
       "      <td>0</td>\n",
       "      <td>0</td>\n",
       "      <td>198</td>\n",
       "      <td>1</td>\n",
       "      <td>0</td>\n",
       "      <td>0</td>\n",
       "      <td>0</td>\n",
       "      <td>...</td>\n",
       "      <td>0</td>\n",
       "      <td>0</td>\n",
       "      <td>0</td>\n",
       "      <td>0</td>\n",
       "      <td>0</td>\n",
       "      <td>0</td>\n",
       "      <td>0</td>\n",
       "      <td>0</td>\n",
       "      <td>0</td>\n",
       "      <td>0</td>\n",
       "    </tr>\n",
       "  </tbody>\n",
       "</table>\n",
       "<p>5 rows × 66 columns</p>\n",
       "</div>"
      ],
      "text/plain": [
       "   age  default  balance  housing  loan  duration  campaign  y  \\\n",
       "0   58        0     2143        1     0       261         1  0   \n",
       "1   44        0       29        1     0       151         1  0   \n",
       "2   33        0        2        1     1        76         1  0   \n",
       "3   47        0     1506        1     0        92         1  0   \n",
       "4   33        0        1        0     0       198         1  0   \n",
       "\n",
       "   job_blue-collar  job_entrepreneur  ...  day_22  day_23  day_24  day_25  \\\n",
       "0                0                 0  ...       0       0       0       0   \n",
       "1                0                 0  ...       0       0       0       0   \n",
       "2                0                 1  ...       0       0       0       0   \n",
       "3                1                 0  ...       0       0       0       0   \n",
       "4                0                 0  ...       0       0       0       0   \n",
       "\n",
       "   day_26  day_27  day_28  day_29  day_30  day_31  \n",
       "0       0       0       0       0       0       0  \n",
       "1       0       0       0       0       0       0  \n",
       "2       0       0       0       0       0       0  \n",
       "3       0       0       0       0       0       0  \n",
       "4       0       0       0       0       0       0  \n",
       "\n",
       "[5 rows x 66 columns]"
      ]
     },
     "execution_count": 13,
     "metadata": {},
     "output_type": "execute_result"
    }
   ],
   "source": [
    "df3.head()"
   ]
  },
  {
   "cell_type": "code",
   "execution_count": 14,
   "metadata": {},
   "outputs": [],
   "source": [
    "# specify dependent and independent variables\n",
    "X = df3.drop('y', axis=1)\n",
    "y = df3['y']"
   ]
  },
  {
   "cell_type": "markdown",
   "metadata": {},
   "source": [
    "## DATA REBALANCING BY OVER OR UNDERSAMPLING\n",
    "As we have already seen, the dataset is heavily imbalanced in favour of the 'no' group (i.e. those who do not subscribe to a term deposit account). We will rebalance the data using random undersampling, random oversampling and SMOTE oversampling (that uses the K-Nearest Neighbour (KNN) method to resample data points). "
   ]
  },
  {
   "cell_type": "code",
   "execution_count": 15,
   "metadata": {
    "scrolled": false
   },
   "outputs": [
    {
     "data": {
      "text/plain": [
       "(37104, 2896)"
      ]
     },
     "execution_count": 15,
     "metadata": {},
     "output_type": "execute_result"
    }
   ],
   "source": [
    "class_0_count, class_1_count = df3['y'].value_counts() # the 'no' (0) group is about 13 fold larger than the 'yes' (1) group \n",
    "class_0_count, class_1_count"
   ]
  },
  {
   "cell_type": "code",
   "execution_count": 16,
   "metadata": {},
   "outputs": [],
   "source": [
    "#create an instance of Stratified K Fold with 5 splits\n",
    "skf = StratifiedKFold(n_splits = 5, random_state = None, shuffle = True)"
   ]
  },
  {
   "cell_type": "markdown",
   "metadata": {},
   "source": [
    "## 1) Random undersampling of the majority class"
   ]
  },
  {
   "cell_type": "code",
   "execution_count": 17,
   "metadata": {
    "scrolled": true
   },
   "outputs": [
    {
     "data": {
      "text/plain": [
       "1    2896\n",
       "0    2896\n",
       "Name: y, dtype: int64"
      ]
     },
     "execution_count": 17,
     "metadata": {},
     "output_type": "execute_result"
    }
   ],
   "source": [
    "#undersample the 'no' (0) group to equal the 'yes' (1) group and concatenate the new 'no' group to the 'yes' group \n",
    "class_0_undersample = pd.concat([df3[df3['y']==0].sample(class_1_count), df3[df3['y']==1]], axis = 0, ignore_index=True)\n",
    "class_0_undersample['y'].value_counts()  # the two classes are balanced in the new dataset                               "
   ]
  },
  {
   "cell_type": "code",
   "execution_count": 18,
   "metadata": {},
   "outputs": [],
   "source": [
    "# Specify X and y of the undersampled datset for training the model\n",
    "X_class_0_undersample = class_0_undersample.drop('y', axis=1)\n",
    "y_class_0_undersample = class_0_undersample['y']"
   ]
  },
  {
   "cell_type": "markdown",
   "metadata": {},
   "source": [
    "## 2) Random oversampling of the minority class"
   ]
  },
  {
   "cell_type": "code",
   "execution_count": 19,
   "metadata": {},
   "outputs": [
    {
     "data": {
      "text/plain": [
       "1    37104\n",
       "0    37104\n",
       "Name: y, dtype: int64"
      ]
     },
     "execution_count": 19,
     "metadata": {},
     "output_type": "execute_result"
    }
   ],
   "source": [
    "#oversample the 'yes' (1) group to equal the 'no' (0) group (simple replication of datapoints) and concatenate the new 'yes' group to the 'no' group \n",
    "class_1_oversample = pd.concat([df3[df3['y']==0], df3[df3['y']==1].sample(class_0_count, replace=True)], axis = 0, ignore_index=True)\n",
    "class_1_oversample['y'].value_counts() # the two classes are balanced in the new dataset "
   ]
  },
  {
   "cell_type": "code",
   "execution_count": 20,
   "metadata": {},
   "outputs": [],
   "source": [
    "# Specify X and y of the oversampled datset for training the model\n",
    "X_class_1_oversample = class_1_oversample.drop('y', axis = 1)\n",
    "y_class_1_oversample = class_1_oversample['y']"
   ]
  },
  {
   "cell_type": "code",
   "execution_count": 29,
   "metadata": {},
   "outputs": [
    {
     "data": {
      "text/html": [
       "<div>\n",
       "<style scoped>\n",
       "    .dataframe tbody tr th:only-of-type {\n",
       "        vertical-align: middle;\n",
       "    }\n",
       "\n",
       "    .dataframe tbody tr th {\n",
       "        vertical-align: top;\n",
       "    }\n",
       "\n",
       "    .dataframe thead th {\n",
       "        text-align: right;\n",
       "    }\n",
       "</style>\n",
       "<table border=\"1\" class=\"dataframe\">\n",
       "  <thead>\n",
       "    <tr style=\"text-align: right;\">\n",
       "      <th></th>\n",
       "      <th>age</th>\n",
       "      <th>default</th>\n",
       "      <th>balance</th>\n",
       "      <th>housing</th>\n",
       "      <th>loan</th>\n",
       "      <th>duration</th>\n",
       "      <th>campaign</th>\n",
       "      <th>job_blue-collar</th>\n",
       "      <th>job_entrepreneur</th>\n",
       "      <th>job_housemaid</th>\n",
       "      <th>...</th>\n",
       "      <th>day_22</th>\n",
       "      <th>day_23</th>\n",
       "      <th>day_24</th>\n",
       "      <th>day_25</th>\n",
       "      <th>day_26</th>\n",
       "      <th>day_27</th>\n",
       "      <th>day_28</th>\n",
       "      <th>day_29</th>\n",
       "      <th>day_30</th>\n",
       "      <th>day_31</th>\n",
       "    </tr>\n",
       "  </thead>\n",
       "  <tbody>\n",
       "    <tr>\n",
       "      <th>0</th>\n",
       "      <td>58</td>\n",
       "      <td>0</td>\n",
       "      <td>2143</td>\n",
       "      <td>1</td>\n",
       "      <td>0</td>\n",
       "      <td>261</td>\n",
       "      <td>1</td>\n",
       "      <td>0</td>\n",
       "      <td>0</td>\n",
       "      <td>0</td>\n",
       "      <td>...</td>\n",
       "      <td>0</td>\n",
       "      <td>0</td>\n",
       "      <td>0</td>\n",
       "      <td>0</td>\n",
       "      <td>0</td>\n",
       "      <td>0</td>\n",
       "      <td>0</td>\n",
       "      <td>0</td>\n",
       "      <td>0</td>\n",
       "      <td>0</td>\n",
       "    </tr>\n",
       "    <tr>\n",
       "      <th>1</th>\n",
       "      <td>44</td>\n",
       "      <td>0</td>\n",
       "      <td>29</td>\n",
       "      <td>1</td>\n",
       "      <td>0</td>\n",
       "      <td>151</td>\n",
       "      <td>1</td>\n",
       "      <td>0</td>\n",
       "      <td>0</td>\n",
       "      <td>0</td>\n",
       "      <td>...</td>\n",
       "      <td>0</td>\n",
       "      <td>0</td>\n",
       "      <td>0</td>\n",
       "      <td>0</td>\n",
       "      <td>0</td>\n",
       "      <td>0</td>\n",
       "      <td>0</td>\n",
       "      <td>0</td>\n",
       "      <td>0</td>\n",
       "      <td>0</td>\n",
       "    </tr>\n",
       "  </tbody>\n",
       "</table>\n",
       "<p>2 rows × 65 columns</p>\n",
       "</div>"
      ],
      "text/plain": [
       "   age  default  balance  housing  loan  duration  campaign  job_blue-collar  \\\n",
       "0   58        0     2143        1     0       261         1                0   \n",
       "1   44        0       29        1     0       151         1                0   \n",
       "\n",
       "   job_entrepreneur  job_housemaid  ...  day_22  day_23  day_24  day_25  \\\n",
       "0                 0              0  ...       0       0       0       0   \n",
       "1                 0              0  ...       0       0       0       0   \n",
       "\n",
       "   day_26  day_27  day_28  day_29  day_30  day_31  \n",
       "0       0       0       0       0       0       0  \n",
       "1       0       0       0       0       0       0  \n",
       "\n",
       "[2 rows x 65 columns]"
      ]
     },
     "execution_count": 29,
     "metadata": {},
     "output_type": "execute_result"
    }
   ],
   "source": [
    "X_class_1_oversample.head(2)"
   ]
  },
  {
   "cell_type": "markdown",
   "metadata": {},
   "source": [
    "## 3) SMOTE oversampling of the minority class"
   ]
  },
  {
   "cell_type": "code",
   "execution_count": 22,
   "metadata": {},
   "outputs": [],
   "source": [
    "#create an instance of SMOTE and specify the minority class tobe resampled\n",
    "smote = SMOTE(sampling_strategy = 'minority')\n",
    "X_train_sm, y_train_sm = smote.fit_resample(df3.drop('y', axis=1), df3['y'])"
   ]
  },
  {
   "cell_type": "code",
   "execution_count": 23,
   "metadata": {
    "scrolled": false
   },
   "outputs": [
    {
     "data": {
      "text/plain": [
       "1    37104\n",
       "0    37104\n",
       "Name: y, dtype: int64"
      ]
     },
     "execution_count": 23,
     "metadata": {},
     "output_type": "execute_result"
    }
   ],
   "source": [
    "y_train_sm.value_counts() # after resampling, the two groups in the training set are now balanced."
   ]
  },
  {
   "cell_type": "markdown",
   "metadata": {},
   "source": [
    "## Define function to conduct stratified K-fold validation"
   ]
  },
  {
   "cell_type": "code",
   "execution_count": 24,
   "metadata": {},
   "outputs": [],
   "source": [
    "#create an instance of Stratified K Fold with 5 splits\n",
    "def K_fold_validation (X ,y):\n",
    "    skf = StratifiedKFold(n_splits = 5, random_state = None, shuffle = True)\n",
    "    xgb = XGBClassifier(use_label_encoder=False, eval_metric='mlogloss', n_estimators=100, learning_rate=0.4, max_depth = 5)\n",
    "    \n",
    "    score_dict = {}\n",
    "    \n",
    "    train_accuracy = []\n",
    "    test_accuracy = []\n",
    "    precision_gp0 = []\n",
    "    precision_gp1 = []\n",
    "    recall_gp0 = []\n",
    "    recall_gp1 = []\n",
    "    f1_gp0 = []\n",
    "    f1_gp1 = []\n",
    "    for train_index, test_index in skf.split(X, y):\n",
    "        X_train = X.loc[train_index].values\n",
    "        y_train = y.loc[train_index].values\n",
    "        X_test = X.loc[test_index].values\n",
    "        y_test = y.loc[test_index].values\n",
    "        \n",
    "        xgb.fit(X_train, y_train)\n",
    "        \n",
    "        train_pred = xgb.predict(X_train)\n",
    "        test_pred = xgb.predict(X_test)\n",
    "        \n",
    "        train_accuracy.append(accuracy_score(y_train, train_pred))\n",
    "        test_accuracy.append(accuracy_score(y_test, test_pred))\n",
    "        precision_gp0.append(precision_score(y_test, test_pred, average=None)[0])\n",
    "        precision_gp1.append(precision_score(y_test, test_pred, average=None)[1])\n",
    "        recall_gp0.append(recall_score(y_test, test_pred, average=None)[0])\n",
    "        recall_gp1.append(recall_score(y_test, test_pred, average=None)[1])\n",
    "        f1_gp0.append(f1_score(y_test, test_pred, average=None)[0])\n",
    "        f1_gp1.append(f1_score(y_test, test_pred, average=None)[1])\n",
    "        \n",
    "    score_dict['Train Accuracy'] = np.mean(train_accuracy)\n",
    "    score_dict['Test Accuracy'] = np.mean(test_accuracy)\n",
    "    score_dict['Precision GP 0'] = np.mean(precision_gp0)\n",
    "    score_dict['Precision GP 1'] = np.mean(precision_gp1)\n",
    "    score_dict['Recall GP 0'] = np.mean(recall_gp0)\n",
    "    score_dict['Recall GP 1'] = np.mean(recall_gp1)\n",
    "    score_dict['F1 Sore GP 0'] = np.mean(f1_gp0)\n",
    "    score_dict['F1 Sore GP 1'] = np.mean(f1_gp1)\n",
    "\n",
    "    df_metrics=pd.DataFrame(score_dict.items(), columns=['', 'score'])\n",
    "    return df_metrics.set_index('')"
   ]
  },
  {
   "cell_type": "markdown",
   "metadata": {},
   "source": [
    "## Conduct K-Fold validation with unbalanced data"
   ]
  },
  {
   "cell_type": "code",
   "execution_count": 25,
   "metadata": {
    "scrolled": true
   },
   "outputs": [
    {
     "data": {
      "text/html": [
       "<div>\n",
       "<style scoped>\n",
       "    .dataframe tbody tr th:only-of-type {\n",
       "        vertical-align: middle;\n",
       "    }\n",
       "\n",
       "    .dataframe tbody tr th {\n",
       "        vertical-align: top;\n",
       "    }\n",
       "\n",
       "    .dataframe thead th {\n",
       "        text-align: right;\n",
       "    }\n",
       "</style>\n",
       "<table border=\"1\" class=\"dataframe\">\n",
       "  <thead>\n",
       "    <tr style=\"text-align: right;\">\n",
       "      <th></th>\n",
       "      <th>score</th>\n",
       "    </tr>\n",
       "    <tr>\n",
       "      <th></th>\n",
       "      <th></th>\n",
       "    </tr>\n",
       "  </thead>\n",
       "  <tbody>\n",
       "    <tr>\n",
       "      <th>Train Accuracy</th>\n",
       "      <td>0.968919</td>\n",
       "    </tr>\n",
       "    <tr>\n",
       "      <th>Test Accuracy</th>\n",
       "      <td>0.934975</td>\n",
       "    </tr>\n",
       "    <tr>\n",
       "      <th>Precision GP 0</th>\n",
       "      <td>0.954048</td>\n",
       "    </tr>\n",
       "    <tr>\n",
       "      <th>Precision GP 1</th>\n",
       "      <td>0.574032</td>\n",
       "    </tr>\n",
       "    <tr>\n",
       "      <th>Recall GP 0</th>\n",
       "      <td>0.976957</td>\n",
       "    </tr>\n",
       "    <tr>\n",
       "      <th>Recall GP 1</th>\n",
       "      <td>0.397103</td>\n",
       "    </tr>\n",
       "    <tr>\n",
       "      <th>F1 Sore GP 0</th>\n",
       "      <td>0.965365</td>\n",
       "    </tr>\n",
       "    <tr>\n",
       "      <th>F1 Sore GP 1</th>\n",
       "      <td>0.469258</td>\n",
       "    </tr>\n",
       "  </tbody>\n",
       "</table>\n",
       "</div>"
      ],
      "text/plain": [
       "                   score\n",
       "                        \n",
       "Train Accuracy  0.968919\n",
       "Test Accuracy   0.934975\n",
       "Precision GP 0  0.954048\n",
       "Precision GP 1  0.574032\n",
       "Recall GP 0     0.976957\n",
       "Recall GP 1     0.397103\n",
       "F1 Sore GP 0    0.965365\n",
       "F1 Sore GP 1    0.469258"
      ]
     },
     "execution_count": 25,
     "metadata": {},
     "output_type": "execute_result"
    }
   ],
   "source": [
    "unbalanced_data = K_fold_validation(X, y)\n",
    "unbalanced_data"
   ]
  },
  {
   "cell_type": "markdown",
   "metadata": {},
   "source": [
    "The train and test accuracies are very good, however, all other metrics for the 'no' group are poor compared to the 'yes' group. This indicates that the XGB Classifier model is having trouble predicting the 'no' group, likely due to its under-representation."
   ]
  },
  {
   "cell_type": "markdown",
   "metadata": {},
   "source": [
    "## Conduct K-Fold validation with SMOTE oversampled data"
   ]
  },
  {
   "cell_type": "code",
   "execution_count": 26,
   "metadata": {
    "scrolled": true
   },
   "outputs": [
    {
     "data": {
      "text/html": [
       "<div>\n",
       "<style scoped>\n",
       "    .dataframe tbody tr th:only-of-type {\n",
       "        vertical-align: middle;\n",
       "    }\n",
       "\n",
       "    .dataframe tbody tr th {\n",
       "        vertical-align: top;\n",
       "    }\n",
       "\n",
       "    .dataframe thead th {\n",
       "        text-align: right;\n",
       "    }\n",
       "</style>\n",
       "<table border=\"1\" class=\"dataframe\">\n",
       "  <thead>\n",
       "    <tr style=\"text-align: right;\">\n",
       "      <th></th>\n",
       "      <th>score</th>\n",
       "    </tr>\n",
       "    <tr>\n",
       "      <th></th>\n",
       "      <th></th>\n",
       "    </tr>\n",
       "  </thead>\n",
       "  <tbody>\n",
       "    <tr>\n",
       "      <th>Train Accuracy</th>\n",
       "      <td>0.978860</td>\n",
       "    </tr>\n",
       "    <tr>\n",
       "      <th>Test Accuracy</th>\n",
       "      <td>0.963212</td>\n",
       "    </tr>\n",
       "    <tr>\n",
       "      <th>Precision GP 0</th>\n",
       "      <td>0.960166</td>\n",
       "    </tr>\n",
       "    <tr>\n",
       "      <th>Precision GP 1</th>\n",
       "      <td>0.966309</td>\n",
       "    </tr>\n",
       "    <tr>\n",
       "      <th>Recall GP 0</th>\n",
       "      <td>0.966527</td>\n",
       "    </tr>\n",
       "    <tr>\n",
       "      <th>Recall GP 1</th>\n",
       "      <td>0.959896</td>\n",
       "    </tr>\n",
       "    <tr>\n",
       "      <th>F1 Sore GP 0</th>\n",
       "      <td>0.963333</td>\n",
       "    </tr>\n",
       "    <tr>\n",
       "      <th>F1 Sore GP 1</th>\n",
       "      <td>0.963089</td>\n",
       "    </tr>\n",
       "  </tbody>\n",
       "</table>\n",
       "</div>"
      ],
      "text/plain": [
       "                   score\n",
       "                        \n",
       "Train Accuracy  0.978860\n",
       "Test Accuracy   0.963212\n",
       "Precision GP 0  0.960166\n",
       "Precision GP 1  0.966309\n",
       "Recall GP 0     0.966527\n",
       "Recall GP 1     0.959896\n",
       "F1 Sore GP 0    0.963333\n",
       "F1 Sore GP 1    0.963089"
      ]
     },
     "execution_count": 26,
     "metadata": {},
     "output_type": "execute_result"
    }
   ],
   "source": [
    "smote_method = K_fold_validation(X_train_sm, y_train_sm)\n",
    "smote_method"
   ]
  },
  {
   "cell_type": "markdown",
   "metadata": {},
   "source": [
    "SMOTE oversampling significantly improved all the metrics for the 'no' group "
   ]
  },
  {
   "cell_type": "markdown",
   "metadata": {},
   "source": [
    "## Conduct K-Fold validation with randomly oversampled data"
   ]
  },
  {
   "cell_type": "code",
   "execution_count": 27,
   "metadata": {
    "scrolled": false
   },
   "outputs": [
    {
     "data": {
      "text/html": [
       "<div>\n",
       "<style scoped>\n",
       "    .dataframe tbody tr th:only-of-type {\n",
       "        vertical-align: middle;\n",
       "    }\n",
       "\n",
       "    .dataframe tbody tr th {\n",
       "        vertical-align: top;\n",
       "    }\n",
       "\n",
       "    .dataframe thead th {\n",
       "        text-align: right;\n",
       "    }\n",
       "</style>\n",
       "<table border=\"1\" class=\"dataframe\">\n",
       "  <thead>\n",
       "    <tr style=\"text-align: right;\">\n",
       "      <th></th>\n",
       "      <th>score</th>\n",
       "    </tr>\n",
       "    <tr>\n",
       "      <th></th>\n",
       "      <th></th>\n",
       "    </tr>\n",
       "  </thead>\n",
       "  <tbody>\n",
       "    <tr>\n",
       "      <th>Train Accuracy</th>\n",
       "      <td>0.952967</td>\n",
       "    </tr>\n",
       "    <tr>\n",
       "      <th>Test Accuracy</th>\n",
       "      <td>0.942472</td>\n",
       "    </tr>\n",
       "    <tr>\n",
       "      <th>Precision GP 0</th>\n",
       "      <td>0.982494</td>\n",
       "    </tr>\n",
       "    <tr>\n",
       "      <th>Precision GP 1</th>\n",
       "      <td>0.908593</td>\n",
       "    </tr>\n",
       "    <tr>\n",
       "      <th>Recall GP 0</th>\n",
       "      <td>0.901008</td>\n",
       "    </tr>\n",
       "    <tr>\n",
       "      <th>Recall GP 1</th>\n",
       "      <td>0.983937</td>\n",
       "    </tr>\n",
       "    <tr>\n",
       "      <th>F1 Sore GP 0</th>\n",
       "      <td>0.939984</td>\n",
       "    </tr>\n",
       "    <tr>\n",
       "      <th>F1 Sore GP 1</th>\n",
       "      <td>0.944762</td>\n",
       "    </tr>\n",
       "  </tbody>\n",
       "</table>\n",
       "</div>"
      ],
      "text/plain": [
       "                   score\n",
       "                        \n",
       "Train Accuracy  0.952967\n",
       "Test Accuracy   0.942472\n",
       "Precision GP 0  0.982494\n",
       "Precision GP 1  0.908593\n",
       "Recall GP 0     0.901008\n",
       "Recall GP 1     0.983937\n",
       "F1 Sore GP 0    0.939984\n",
       "F1 Sore GP 1    0.944762"
      ]
     },
     "execution_count": 27,
     "metadata": {},
     "output_type": "execute_result"
    }
   ],
   "source": [
    "random_over = K_fold_validation(X_class_1_oversample, y_class_1_oversample)\n",
    "random_over"
   ]
  },
  {
   "cell_type": "markdown",
   "metadata": {},
   "source": [
    "Random oversampling also improved all the metrics for the 'no' group."
   ]
  },
  {
   "cell_type": "markdown",
   "metadata": {},
   "source": [
    "## Conduct K-Fold validation with randomly undersampled data"
   ]
  },
  {
   "cell_type": "code",
   "execution_count": 28,
   "metadata": {},
   "outputs": [
    {
     "data": {
      "text/html": [
       "<div>\n",
       "<style scoped>\n",
       "    .dataframe tbody tr th:only-of-type {\n",
       "        vertical-align: middle;\n",
       "    }\n",
       "\n",
       "    .dataframe tbody tr th {\n",
       "        vertical-align: top;\n",
       "    }\n",
       "\n",
       "    .dataframe thead th {\n",
       "        text-align: right;\n",
       "    }\n",
       "</style>\n",
       "<table border=\"1\" class=\"dataframe\">\n",
       "  <thead>\n",
       "    <tr style=\"text-align: right;\">\n",
       "      <th></th>\n",
       "      <th>score</th>\n",
       "    </tr>\n",
       "    <tr>\n",
       "      <th></th>\n",
       "      <th></th>\n",
       "    </tr>\n",
       "  </thead>\n",
       "  <tbody>\n",
       "    <tr>\n",
       "      <th>Train Accuracy</th>\n",
       "      <td>0.979368</td>\n",
       "    </tr>\n",
       "    <tr>\n",
       "      <th>Test Accuracy</th>\n",
       "      <td>0.880699</td>\n",
       "    </tr>\n",
       "    <tr>\n",
       "      <th>Precision GP 0</th>\n",
       "      <td>0.899269</td>\n",
       "    </tr>\n",
       "    <tr>\n",
       "      <th>Precision GP 1</th>\n",
       "      <td>0.863951</td>\n",
       "    </tr>\n",
       "    <tr>\n",
       "      <th>Recall GP 0</th>\n",
       "      <td>0.857388</td>\n",
       "    </tr>\n",
       "    <tr>\n",
       "      <th>Recall GP 1</th>\n",
       "      <td>0.904008</td>\n",
       "    </tr>\n",
       "    <tr>\n",
       "      <th>F1 Sore GP 0</th>\n",
       "      <td>0.877772</td>\n",
       "    </tr>\n",
       "    <tr>\n",
       "      <th>F1 Sore GP 1</th>\n",
       "      <td>0.883476</td>\n",
       "    </tr>\n",
       "  </tbody>\n",
       "</table>\n",
       "</div>"
      ],
      "text/plain": [
       "                   score\n",
       "                        \n",
       "Train Accuracy  0.979368\n",
       "Test Accuracy   0.880699\n",
       "Precision GP 0  0.899269\n",
       "Precision GP 1  0.863951\n",
       "Recall GP 0     0.857388\n",
       "Recall GP 1     0.904008\n",
       "F1 Sore GP 0    0.877772\n",
       "F1 Sore GP 1    0.883476"
      ]
     },
     "execution_count": 28,
     "metadata": {},
     "output_type": "execute_result"
    }
   ],
   "source": [
    "random_under = K_fold_validation(X_class_0_undersample, y_class_0_undersample)\n",
    "random_under"
   ]
  },
  {
   "cell_type": "markdown",
   "metadata": {},
   "source": [
    "Random undersampling also improved the 'no' group metrics but to a lesser extent while at the same time decreased the metrics of the 'yes' group. This indicates that SMOTE oversampling or random oversampling yields the best predictive capability for the XGB model using this dataset."
   ]
  },
  {
   "cell_type": "code",
   "execution_count": null,
   "metadata": {},
   "outputs": [],
   "source": []
  }
 ],
 "metadata": {
  "kernelspec": {
   "display_name": "Python 3",
   "language": "python",
   "name": "python3"
  },
  "language_info": {
   "codemirror_mode": {
    "name": "ipython",
    "version": 3
   },
   "file_extension": ".py",
   "mimetype": "text/x-python",
   "name": "python",
   "nbconvert_exporter": "python",
   "pygments_lexer": "ipython3",
   "version": "3.8.5"
  }
 },
 "nbformat": 4,
 "nbformat_minor": 4
}
